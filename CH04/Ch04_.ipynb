{
  "nbformat": 4,
  "nbformat_minor": 0,
  "metadata": {
    "colab": {
      "name": "Ch04_.ipynb",
      "provenance": [],
      "authorship_tag": "ABX9TyMB5jMgyHqFdGn5NbU2w4k2",
      "include_colab_link": true
    },
    "kernelspec": {
      "name": "python3",
      "display_name": "Python 3"
    }
  },
  "cells": [
    {
      "cell_type": "markdown",
      "metadata": {
        "id": "view-in-github",
        "colab_type": "text"
      },
      "source": [
        "<a href=\"https://colab.research.google.com/github/jade0520/DeepLearning_FromScratch/blob/master/CH04/Ch04_.ipynb\" target=\"_parent\"><img src=\"https://colab.research.google.com/assets/colab-badge.svg\" alt=\"Open In Colab\"/></a>"
      ]
    },
    {
      "cell_type": "code",
      "metadata": {
        "id": "b4xXxs9IsPr0",
        "colab_type": "code",
        "colab": {
          "base_uri": "https://localhost:8080/",
          "height": 104
        },
        "outputId": "5e685583-a149-4405-aaea-25b9f5eb7b57"
      },
      "source": [
        "!git clone https://github.com/WegraLee/deep-learning-from-scratch.git"
      ],
      "execution_count": 1,
      "outputs": [
        {
          "output_type": "stream",
          "text": [
            "Cloning into 'deep-learning-from-scratch'...\n",
            "remote: Enumerating objects: 791, done.\u001b[K\n",
            "remote: Total 791 (delta 0), reused 0 (delta 0), pack-reused 791\u001b[K\n",
            "Receiving objects: 100% (791/791), 52.15 MiB | 40.49 MiB/s, done.\n",
            "Resolving deltas: 100% (457/457), done.\n"
          ],
          "name": "stdout"
        }
      ]
    },
    {
      "cell_type": "markdown",
      "metadata": {
        "id": "V593jDPO4PXs",
        "colab_type": "text"
      },
      "source": [
        "# 손실함수\n"
      ]
    },
    {
      "cell_type": "code",
      "metadata": {
        "id": "cIwkBwP50j8s",
        "colab_type": "code",
        "colab": {}
      },
      "source": [
        "import numpy as np"
      ],
      "execution_count": 2,
      "outputs": []
    },
    {
      "cell_type": "markdown",
      "metadata": {
        "id": "mOmlX86zzhF_",
        "colab_type": "text"
      },
      "source": [
        "1) 오차 제곱합 "
      ]
    },
    {
      "cell_type": "code",
      "metadata": {
        "id": "sJ2GHF53zoik",
        "colab_type": "code",
        "colab": {}
      },
      "source": [
        "def sum_square_error(y,t):\n",
        "    return 0.5*np.sum((y-t)**2)"
      ],
      "execution_count": 3,
      "outputs": []
    },
    {
      "cell_type": "markdown",
      "metadata": {
        "id": "795GYqW40CYq",
        "colab_type": "text"
      },
      "source": [
        " 원-핫 인코딩을 가정한다."
      ]
    },
    {
      "cell_type": "code",
      "metadata": {
        "id": "K2uDstndyz4a",
        "colab_type": "code",
        "colab": {
          "base_uri": "https://localhost:8080/",
          "height": 34
        },
        "outputId": "3dc3b6e9-8d3c-41b0-890e-3e8136782917"
      },
      "source": [
        "y = [0.1 , 0.05, 0.6, 0.0 , 0.05, 0.1, 0.0, 0.1, 0.0, 0.0 ]\n",
        "t = [0, 0, 1, 0, 0, 0, 0, 0, 0, 0]\n",
        "\n",
        "sum_square_error(np.array(y),np.array(t))"
      ],
      "execution_count": 4,
      "outputs": [
        {
          "output_type": "execute_result",
          "data": {
            "text/plain": [
              "0.09750000000000003"
            ]
          },
          "metadata": {
            "tags": []
          },
          "execution_count": 4
        }
      ]
    },
    {
      "cell_type": "markdown",
      "metadata": {
        "id": "w4opc7ji0-Nb",
        "colab_type": "text"
      },
      "source": [
        "정답이 아닌 수의 확률이 높다고 예측했을 경우 : 손실함수의 결과가 커짐"
      ]
    },
    {
      "cell_type": "code",
      "metadata": {
        "id": "dLJv0k3-09R2",
        "colab_type": "code",
        "colab": {
          "base_uri": "https://localhost:8080/",
          "height": 34
        },
        "outputId": "b96c22b9-50e5-496e-de13-9be162bab8e7"
      },
      "source": [
        "y = [0.1 , 0.05, 0.1, 0.0 , 0.05, 0.1, 0.0, 0.6, 0.0, 0.0 ]\n",
        "\n",
        "sum_square_error(np.array(y),np.array(t))"
      ],
      "execution_count": 5,
      "outputs": [
        {
          "output_type": "execute_result",
          "data": {
            "text/plain": [
              "0.5975"
            ]
          },
          "metadata": {
            "tags": []
          },
          "execution_count": 5
        }
      ]
    },
    {
      "cell_type": "markdown",
      "metadata": {
        "id": "kxokMe-X1ZFb",
        "colab_type": "text"
      },
      "source": [
        "2) 교차엔트로피 오차"
      ]
    },
    {
      "cell_type": "code",
      "metadata": {
        "id": "Z9BGSYuG3X3B",
        "colab_type": "code",
        "colab": {}
      },
      "source": [
        "def cross_entropy_error(y,t):\n",
        "  delta = 1e-7\n",
        "  return -np.sum(t*np.log(y+delta))"
      ],
      "execution_count": 6,
      "outputs": []
    },
    {
      "cell_type": "markdown",
      "metadata": {
        "id": "cLFjwU3y4gcy",
        "colab_type": "text"
      },
      "source": [
        "\n",
        "정답에 해당하는 확률을 제외하고는 원-핫 코딩에 의해 모두 0이 됨.\n",
        "--> 숫자 라벨인 경우 미니배치 예시 참조\n"
      ]
    },
    {
      "cell_type": "code",
      "metadata": {
        "id": "3WVBGcGG3rft",
        "colab_type": "code",
        "colab": {
          "base_uri": "https://localhost:8080/",
          "height": 34
        },
        "outputId": "13cfde03-8c33-4c9a-c38d-2546d45e3823"
      },
      "source": [
        "t = [0, 0, 1, 0, 0, 0, 0, 0, 0, 0]\n",
        "y = [0.1 , 0.05, 0.6, 0.0 , 0.05, 0.1, 0.0, 0.1, 0.0, 0.0 ]\n",
        "\n",
        "cross_entropy_error(np.array(y),np.array(t))"
      ],
      "execution_count": 7,
      "outputs": [
        {
          "output_type": "execute_result",
          "data": {
            "text/plain": [
              "0.510825457099338"
            ]
          },
          "metadata": {
            "tags": []
          },
          "execution_count": 7
        }
      ]
    },
    {
      "cell_type": "markdown",
      "metadata": {
        "id": "Z8pYlFnz38Cg",
        "colab_type": "text"
      },
      "source": [
        "정답에 해당하는 확률이 낮게 출력된 경우 : 손실함수 값이 낮아진다."
      ]
    },
    {
      "cell_type": "code",
      "metadata": {
        "id": "7z7q5PE63qWY",
        "colab_type": "code",
        "colab": {
          "base_uri": "https://localhost:8080/",
          "height": 34
        },
        "outputId": "8da8b03a-0132-410b-fb27-f3d591a6d3b6"
      },
      "source": [
        "y = [0.1 , 0.05, 0.1, 0.0 , 0.05, 0.1, 0.0, 0.6, 0.0, 0.0 ]\n",
        "cross_entropy_error(np.array(y),np.array(t))"
      ],
      "execution_count": 8,
      "outputs": [
        {
          "output_type": "execute_result",
          "data": {
            "text/plain": [
              "2.302584092994546"
            ]
          },
          "metadata": {
            "tags": []
          },
          "execution_count": 8
        }
      ]
    },
    {
      "cell_type": "markdown",
      "metadata": {
        "id": "8fYdinfJ3qKp",
        "colab_type": "text"
      },
      "source": [
        "==> 오차 제곱합의 판단과 일치"
      ]
    },
    {
      "cell_type": "markdown",
      "metadata": {
        "id": "pgMI6yzG4VMR",
        "colab_type": "text"
      },
      "source": [
        "#미니배치 학습\n"
      ]
    },
    {
      "cell_type": "markdown",
      "metadata": {
        "id": "BKLhjgeD6dCZ",
        "colab_type": "text"
      },
      "source": [
        "배치용 교차 엔트로피 오차 구하기"
      ]
    },
    {
      "cell_type": "markdown",
      "metadata": {
        "id": "ypCylL9y7xbw",
        "colab_type": "text"
      },
      "source": [
        "(원-핫 인코딩)"
      ]
    },
    {
      "cell_type": "code",
      "metadata": {
        "id": "tEyxnlJY6bvd",
        "colab_type": "code",
        "colab": {}
      },
      "source": [
        "def cross_entropy_error(y,t):\n",
        "  # 사용하는 데이터가 하나일 경우, 통일 성을 위해 2차원 데이터로 바꿔준다.\n",
        "  if y.ndim == 1:\n",
        "      t = t.reshape(1,t.size)\n",
        "      y = y.reshape(1,y.size)\n",
        "  \n",
        "  #배치 사이즈 구하기\n",
        "  batch_size = y.shape[0]\n",
        "\n",
        "  # 모든 요소 합하기\n",
        "  return -np.sum(t*np.log(y+ 1e-7))/batch_size"
      ],
      "execution_count": 9,
      "outputs": []
    },
    {
      "cell_type": "markdown",
      "metadata": {
        "id": "Z8r5uXFp71ox",
        "colab_type": "text"
      },
      "source": [
        "(숫자 라벨)"
      ]
    },
    {
      "cell_type": "code",
      "metadata": {
        "id": "U3WW29zK7ZPq",
        "colab_type": "code",
        "colab": {}
      },
      "source": [
        "def cross_entropy_error(y,t):\n",
        "  if y.ndim == 1:\n",
        "      t = t.reshape(1,t.size)\n",
        "      y = y.reshape(1,y.size)\n",
        "  \n",
        "  batch_size = y.shape[0]\n",
        "  # \n",
        "  return -np.sum(t*np.log(y[np.arange(batch_size),t]+ 1e-7))/batch_size"
      ],
      "execution_count": 10,
      "outputs": []
    },
    {
      "cell_type": "markdown",
      "metadata": {
        "id": "JCz8Cs87De8A",
        "colab_type": "text"
      },
      "source": [
        "#수치미분"
      ]
    },
    {
      "cell_type": "code",
      "metadata": {
        "id": "AbUpXcGjDgaw",
        "colab_type": "code",
        "colab": {}
      },
      "source": [
        "def numerical_diff(f,x):\n",
        "  h = 10e-50\n",
        "  return (f(x+h)-f(x))/h"
      ],
      "execution_count": 11,
      "outputs": []
    },
    {
      "cell_type": "code",
      "metadata": {
        "id": "1jYhoVNGD18o",
        "colab_type": "code",
        "colab": {}
      },
      "source": [
        "def numerical_diff(f,x):\n",
        "  h = 10e-50\n",
        "  return (f(x+h)-f(x-h))/(2*h)"
      ],
      "execution_count": 12,
      "outputs": []
    }
  ]
}