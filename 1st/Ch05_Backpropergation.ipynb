{
  "nbformat": 4,
  "nbformat_minor": 0,
  "metadata": {
    "colab": {
      "name": "Ch05_Backpropergation.ipynb",
      "provenance": [],
      "authorship_tag": "ABX9TyPh35oGRteWptz4NjUli58u",
      "include_colab_link": true
    },
    "kernelspec": {
      "name": "python3",
      "display_name": "Python 3"
    }
  },
  "cells": [
    {
      "cell_type": "markdown",
      "metadata": {
        "id": "view-in-github",
        "colab_type": "text"
      },
      "source": [
        "<a href=\"https://colab.research.google.com/github/jade0520/DeepLearning_FromScratch/blob/master/CH05/Ch05_Backpropergation.ipynb\" target=\"_parent\"><img src=\"https://colab.research.google.com/assets/colab-badge.svg\" alt=\"Open In Colab\"/></a>"
      ]
    },
    {
      "cell_type": "markdown",
      "metadata": {
        "id": "lK7P2xhUI0RA",
        "colab_type": "text"
      },
      "source": [
        "오차 역전파법"
      ]
    },
    {
      "cell_type": "code",
      "metadata": {
        "id": "aUaZSqFqItrw",
        "colab_type": "code",
        "colab": {
          "base_uri": "https://localhost:8080/",
          "height": 107
        },
        "outputId": "3a24e35b-5520-4782-8a56-63b91ad5e16e"
      },
      "source": [
        "!git clone https://github.com/WegraLee/deep-learning-from-scratch.git"
      ],
      "execution_count": null,
      "outputs": [
        {
          "output_type": "stream",
          "text": [
            "Cloning into 'deep-learning-from-scratch'...\n",
            "remote: Enumerating objects: 791, done.\u001b[K\n",
            "remote: Total 791 (delta 0), reused 0 (delta 0), pack-reused 791\u001b[K\n",
            "Receiving objects: 100% (791/791), 52.15 MiB | 43.38 MiB/s, done.\n",
            "Resolving deltas: 100% (457/457), done.\n"
          ],
          "name": "stdout"
        }
      ]
    },
    {
      "cell_type": "code",
      "metadata": {
        "id": "ErIUY656X1Fd",
        "colab_type": "code",
        "colab": {}
      },
      "source": [
        "import numpy as np"
      ],
      "execution_count": null,
      "outputs": []
    },
    {
      "cell_type": "markdown",
      "metadata": {
        "id": "eB-HfCciIzKd",
        "colab_type": "text"
      },
      "source": [
        "#단순한 계층 구현하기\n",
        "\n",
        "\n",
        "> 노드의 종류마다 순전파/역전파를 묶은 클래스를 생성한다.\n",
        "\n"
      ]
    },
    {
      "cell_type": "markdown",
      "metadata": {
        "id": "58m0ZSHmNe_S",
        "colab_type": "text"
      },
      "source": [
        "곱셈을 위한 계층 구현 "
      ]
    },
    {
      "cell_type": "code",
      "metadata": {
        "id": "RpqHJq3ZJHDU",
        "colab_type": "code",
        "colab": {}
      },
      "source": [
        "class MulLayer:\n",
        "      #초기화 \n",
        "      def __init__(self):\n",
        "        self.x = None\n",
        "        self.y = None\n",
        "\n",
        "      #순방향 : 단순 곱셈\n",
        "      def forward(self,x,y):\n",
        "        self.x = x\n",
        "        self.y = y\n",
        "        out = x*y\n",
        "\n",
        "        return out\n",
        "\n",
        "      #역방향 : 앞의 값 * 반대쪽 값\n",
        "      def backward(self,dout):\n",
        "        dx = dout * self.y                  #전하기만 하면 되므로 따로 클래스의 메서드로 만들어 줄 필요 x\n",
        "        dy = dout * self.x\n",
        "\n",
        "        return dx,dy"
      ],
      "execution_count": null,
      "outputs": []
    },
    {
      "cell_type": "markdown",
      "metadata": {
        "id": "BWf2TTMjKXOE",
        "colab_type": "text"
      },
      "source": [
        "곱셈의 순전파"
      ]
    },
    {
      "cell_type": "code",
      "metadata": {
        "id": "5G8DF4_bKbzU",
        "colab_type": "code",
        "colab": {
          "base_uri": "https://localhost:8080/",
          "height": 34
        },
        "outputId": "3b9d9bdb-2955-4ff7-f186-6d3c26a8162d"
      },
      "source": [
        "apple = 100\n",
        "apple_num = 2\n",
        "tax = 1.1\n",
        "\n",
        "#계층들 : 구현해 놓은 MulLayer계층\n",
        "mul_apple_layer = MulLayer()  #첫번째 사과 개수 * 가격\n",
        "mul_tax_layer = MulLayer()    #두번째 세금 * 사과 개수 * 가격\n",
        "\n",
        "#순전파\n",
        "apple_price = mul_apple_layer.forward(apple,apple_num)\n",
        "price = mul_tax_layer.forward(apple_price,tax)\n",
        "\n",
        "print(price)"
      ],
      "execution_count": null,
      "outputs": [
        {
          "output_type": "stream",
          "text": [
            "220.00000000000003\n"
          ],
          "name": "stdout"
        }
      ]
    },
    {
      "cell_type": "markdown",
      "metadata": {
        "id": "y6wa0D3IMD__",
        "colab_type": "text"
      },
      "source": [
        "곱셈의 역전파"
      ]
    },
    {
      "cell_type": "code",
      "metadata": {
        "id": "MRbRT6PXLX2U",
        "colab_type": "code",
        "colab": {
          "base_uri": "https://localhost:8080/",
          "height": 34
        },
        "outputId": "8726f43a-6581-4d12-d305-10044ff31084"
      },
      "source": [
        "dprice = 1\n",
        "dapple_price,dtax = mul_tax_layer.backward(dprice)\n",
        "dapple , dapple_num = mul_apple_layer.backward(dapple_price)\n",
        "\n",
        "print(dapple, dapple_num,dtax)\n",
        "\n"
      ],
      "execution_count": null,
      "outputs": [
        {
          "output_type": "stream",
          "text": [
            "2.2 110.00000000000001 200\n"
          ],
          "name": "stdout"
        }
      ]
    },
    {
      "cell_type": "markdown",
      "metadata": {
        "id": "mxnqAm8GNn54",
        "colab_type": "text"
      },
      "source": [
        "덧셈 계층 구현"
      ]
    },
    {
      "cell_type": "code",
      "metadata": {
        "id": "QzN1OHKRN7bI",
        "colab_type": "code",
        "colab": {}
      },
      "source": [
        "class AddLayer:\n",
        "      # add 의 역전파는 앞의 결과를 그대로 흘려보내기 때문에\n",
        "      # 따로 덧셈의 순전파 결과를 기억해 두지 않아도 된다.\n",
        "      def __init__(self): \n",
        "          pass\n",
        "      \n",
        "      def forward(self,x,y):\n",
        "        out = x+y\n",
        "      \n",
        "        return out\n",
        "\n",
        "\n",
        "      def backward(self,dout):\n",
        "        dx = dout\n",
        "        dy = dout\n",
        "      \n",
        "        return dx, dy"
      ],
      "execution_count": null,
      "outputs": []
    },
    {
      "cell_type": "code",
      "metadata": {
        "id": "DrjbqQcGOiFN",
        "colab_type": "code",
        "colab": {
          "base_uri": "https://localhost:8080/",
          "height": 52
        },
        "outputId": "f2b18cfb-c235-4d50-b04c-2ebb98ebb3c4"
      },
      "source": [
        "apple = 100\n",
        "apple_num = 2\n",
        "orange = 150\n",
        "orange_num = 3\n",
        "tax = 1.1\n",
        "\n",
        "#계층들\n",
        "mul_apple_layer = MulLayer()\n",
        "mul_orange_layer = MulLayer()\n",
        "add_apple_orange_layer = AddLayer()\n",
        "mul_tax_layer = MulLayer()\n",
        "\n",
        "#순전파\n",
        "apple_price = mul_apple_layer.forward(apple, apple_num)\n",
        "orange_price = mul_orange_layer.forward(orange, orange_num)\n",
        "all_price = add_apple_orange_layer.forward(apple_price, orange_price)\n",
        "price = mul_tax_layer.forward(all_price, tax)\n",
        "\n",
        "#역전파 \n",
        "dprice = 1\n",
        "dall_price,dtax = mul_tax_layer.backward(dprice)\n",
        "dapple_price , dorange_price = add_apple_orange_layer.backward(dall_price)\n",
        "dapple,dapple_num = mul_apple_layer.backward(dapple_price)\n",
        "dorange,dorange_num = mul_orange_layer.backward(dorange_price)\n",
        "\n",
        "print(price)\n",
        "print(dapple_num,dapple,dorange,dorange_num,dtax)\n"
      ],
      "execution_count": null,
      "outputs": [
        {
          "output_type": "stream",
          "text": [
            "715.0000000000001\n",
            "110.00000000000001 2.2 3.3000000000000003 165.0 650\n"
          ],
          "name": "stdout"
        }
      ]
    },
    {
      "cell_type": "markdown",
      "metadata": {
        "id": "EYo96AfeRrCT",
        "colab_type": "text"
      },
      "source": [
        "#활성화 함수 계층 구현하기"
      ]
    },
    {
      "cell_type": "markdown",
      "metadata": {
        "id": "SbdaXizTSBCy",
        "colab_type": "text"
      },
      "source": [
        "[ReLU 계층]"
      ]
    },
    {
      "cell_type": "code",
      "metadata": {
        "id": "3iS0AfHORvah",
        "colab_type": "code",
        "colab": {}
      },
      "source": [
        "class Relu:\n",
        "      def __init__(self):\n",
        "        self.mask =none\n",
        "      \n",
        "      def forward(self,x):\n",
        "        #입력 값들 중 0 보다 작은 애들 따로 표시 해두는 것.\n",
        "        self.mask = (x<=0)\n",
        "        out = x.copy()\n",
        "\n",
        "        # 0보다 작았던 입력값들은 모두 0으로 셋팅한다.\n",
        "        out[self.mask] = 0\n",
        "\n",
        "        return out\n",
        "\n",
        "      def backward(self, dout):\n",
        "         # 입력값이 0보다 작았던 경우, 역전파 결과도 모두 0으로 셋팅한다.\n",
        "        dout[self.mask] = 0\n",
        "        dx = dout\n",
        "\n",
        "        return dx"
      ],
      "execution_count": null,
      "outputs": []
    },
    {
      "cell_type": "code",
      "metadata": {
        "id": "pEFBV-TtXmeS",
        "colab_type": "code",
        "colab": {
          "base_uri": "https://localhost:8080/",
          "height": 86
        },
        "outputId": "92239ade-db1b-446a-ea9c-94a998863765"
      },
      "source": [
        "x =  np.array([[1.0, -1.5], [-2.0, 3.0]])\n",
        "print(x)\n",
        "\n",
        "#작은 경우만 true가 됨을 확인.\n",
        "mask = (x<=0)\n",
        "print(mask)"
      ],
      "execution_count": null,
      "outputs": [
        {
          "output_type": "stream",
          "text": [
            "[[ 1.  -1.5]\n",
            " [-2.   3. ]]\n",
            "[[False  True]\n",
            " [ True False]]\n"
          ],
          "name": "stdout"
        }
      ]
    },
    {
      "cell_type": "markdown",
      "metadata": {
        "id": "nHtQiaIlYFbS",
        "colab_type": "text"
      },
      "source": [
        "[Sigmoid 계층]"
      ]
    },
    {
      "cell_type": "code",
      "metadata": {
        "id": "_yponZUrZwFt",
        "colab_type": "code",
        "colab": {}
      },
      "source": [
        "class Sigmoid:\n",
        "      #순전파 시 출력 보관 했다가 역전파 시에 사용\n",
        "      def __init__(self):\n",
        "        self.out = None\n",
        "\n",
        "      def forward(self,x):\n",
        "        out = 1/(1+np.exp(-x))\n",
        "        self.out = out\n",
        "\n",
        "        return out\n",
        "\n",
        "      def backward(self,dout):\n",
        "        dx = dout * (1-self.out)* self.out\n",
        "     \n",
        "        return dx\n"
      ],
      "execution_count": null,
      "outputs": []
    },
    {
      "cell_type": "markdown",
      "metadata": {
        "id": "XkAhNKQJPOxS",
        "colab_type": "text"
      },
      "source": [
        "#Affine/Softmax 계층구현  "
      ]
    },
    {
      "cell_type": "markdown",
      "metadata": {
        "id": "b6C1QPjWPjhU",
        "colab_type": "text"
      },
      "source": [
        "  Affine 계층"
      ]
    },
    {
      "cell_type": "code",
      "metadata": {
        "id": "ZGlxShrgPdz4",
        "colab_type": "code",
        "colab": {}
      },
      "source": [
        " class Affine:\n",
        "      def __init__(self,W,b):\n",
        "        self.W = W\n",
        "        self.b = b\n",
        "        self.x = None\n",
        "        self.dw = None\n",
        "        delf.db = None\n",
        "\n",
        "      def forward(self,x):\n",
        "        self.x = x\n",
        "        \n",
        "        #AFfine : just dot product\n",
        "        out = np.dot(x,self.W) +self.b  #브로드 캐스트\n",
        "\n",
        "        return out\n",
        "\n",
        "      def backward(self, dout):\n",
        "        dx =np.dot(dout,self.W.T)\n",
        "        self.dW =np.dot(self.x.T,dout)\n",
        "       \n",
        "        # 역전파 시 데이터의 각 역전파 값이 편향의 원소에 모여야 한다.  \n",
        "        self.db = np.sum(dout,axis =0)\n",
        "\n",
        "        return dx"
      ],
      "execution_count": null,
      "outputs": []
    },
    {
      "cell_type": "markdown",
      "metadata": {
        "id": "-fU25CTLWFwN",
        "colab_type": "text"
      },
      "source": [
        "soft-with Loss"
      ]
    },
    {
      "cell_type": "code",
      "metadata": {
        "id": "mMB9mZdbWIsE",
        "colab_type": "code",
        "colab": {}
      },
      "source": [
        "class SoftWithLoss:\n",
        "      def __init__(self):\n",
        "        self.loss = None #손실\n",
        "        self.y = None\n",
        "        self.t = None\n",
        "\n",
        "      #softmax + loss\n",
        "      def forward(self,x,t):\n",
        "        self.t = t\n",
        "        self.y = softmax(x)\n",
        "        self.loss = cross_entropy_error(self.y,self.t)\n",
        "        return self.loss\n",
        "\n",
        "      def backward(self,dout = 1):\n",
        "        # dout 시작 부분이므로 1\n",
        "        batch_size = self.t.shape[0]\n",
        "        #결국에 신경망의 출력과 정답레이블의 오차를 앞으로 전달하게 된다.\n",
        "        #데이터 1개당 오차를 전파함\n",
        "        dx = (self.y - self.t) / batch_size\n",
        "\n",
        "        return dx"
      ],
      "execution_count": null,
      "outputs": []
    },
    {
      "cell_type": "markdown",
      "metadata": {
        "id": "7Wgw5gf3a-2B",
        "colab_type": "text"
      },
      "source": [
        "#오차 역전파법 구현"
      ]
    },
    {
      "cell_type": "code",
      "metadata": {
        "id": "pP_bbm3Ta-Rl",
        "colab_type": "code",
        "colab": {}
      },
      "source": [
        "import sys,os\n",
        "sys.path.append(os.pardir)\n",
        "import numpy as np\n",
        "os.chdir('/content/deep-learning-from-scratch/')\n",
        "\n",
        "from common.layers import * \n",
        "from collections import OrderedDict\n",
        "\n",
        "\n",
        "\n",
        "class TwoLayerNet:\n",
        "  def __init__(self,input_size, hidden_size, output_size, weight_init_std = 0.01):\n",
        "\n",
        "    # initialize weights\n",
        "    self.params = {}  #dictionary\n",
        "    self.params['W1'] = weight_init_std *np.random.randn(input_size,hidden_size)\n",
        "    self.params['b1'] = np.zeros(hidden_size)\n",
        "    self.params['W2'] = weight_init_std * np.random.randn(hidden_size,output_size)\n",
        "    self.params['b2'] = np.zeros(output_size)\n",
        "\n",
        "    #layers : Oder Dictionary!\n",
        "    self.layers  = OrderedDict()\n",
        "    self.layers['Affine1'] = Affine(self.params['W1'],self.params['b1'])\n",
        "    self.layers['Relu1'] = Relu()\n",
        "    self.layers['Affine2'] = Affine(self.params['W2'],self.params['b2'])\n",
        "\n",
        "    self.lastLayer = SoftmaxWithLoss()\n",
        "\n",
        "\n",
        "  def predict(self,x):\n",
        "    #순전파로 예측\n",
        "      for layer in self.layers.values():\n",
        "          x = layer.forward(x)   #do function forward ,given layer\n",
        "      \n",
        "      return x\n",
        "  \n",
        "  #학습 시 이용\n",
        "  def loss(self,x,t):\n",
        "    y = self.predict(x) # 순전파로 얻은 값\n",
        "    return self.lastLayer.forward(y,t) #출력층 통해서 값 리턴\n",
        "\n",
        "  #추론 시 이용\n",
        "  def accuracy(self,x,t):\n",
        "      y = self.predict(x)\n",
        "      y = np.argmax(y,axis = 1)\n",
        "\n",
        "      #if t is not number label, if it is one-hot label\n",
        "      #받은 t의 최대 값만  t에 저장\n",
        "      if t.ndim != 1 : t = np.argmax(t,axis = 1)\n",
        "\n",
        "      #compare predicted y and answer t\n",
        "      accuracy = np.sum(y==t) / float(x.shape[0]) \n",
        "\n",
        "      return accuracy\n",
        "\n",
        "  def numerical_gradient(self, x, t):\n",
        "      loss_W = lambda W: self.loss(x, t)\n",
        "        \n",
        "      grads = {}\n",
        "      grads['W1'] = numerical_gradient(loss_W, self.params['W1'])\n",
        "      grads['b1'] = numerical_gradient(loss_W, self.params['b1'])\n",
        "      grads['W2'] = numerical_gradient(loss_W, self.params['W2'])\n",
        "      grads['b2'] = numerical_gradient(loss_W, self.params['b2'])\n",
        "        \n",
        "      return grads\n",
        "        \n",
        "  def gradient(self, x, t):\n",
        "        # forward\n",
        "      self.loss(x, t)\n",
        "\n",
        "        # backward\n",
        "      dout = 1\n",
        "      dout = self.lastLayer.backward(dout)\n",
        "        \n",
        "      layers = list(self.layers.values())\n",
        "      layers.reverse()\n",
        "      for layer in layers:\n",
        "          dout = layer.backward(dout)\n",
        "\n",
        "        # 결과 저장\n",
        "      grads = {}\n",
        "      grads['W1'], grads['b1'] = self.layers['Affine1'].dW, self.layers['Affine1'].db\n",
        "      grads['W2'], grads['b2'] = self.layers['Affine2'].dW, self.layers['Affine2'].db\n",
        "\n",
        "      return grads\n"
      ],
      "execution_count": null,
      "outputs": []
    },
    {
      "cell_type": "code",
      "metadata": {
        "id": "Ah6Q9ib4ggx3",
        "colab_type": "code",
        "colab": {
          "base_uri": "https://localhost:8080/",
          "height": 323
        },
        "outputId": "e42c2c88-0564-4597-8f0b-638759200cb2"
      },
      "source": [
        "from dataset.mnist import load_mnist\n",
        "\n",
        "# 데이터 읽기\n",
        "(x_train, t_train), (x_test, t_test) = load_mnist(normalize=True, one_hot_label=True)\n",
        "\n",
        "network = TwoLayerNet(input_size=784, hidden_size=50, output_size=10)\n",
        "\n",
        "iters_num = 10000\n",
        "train_size = x_train.shape[0]\n",
        "batch_size = 100\n",
        "learning_rate = 0.1\n",
        "\n",
        "train_loss_list = []\n",
        "train_acc_list = []\n",
        "test_acc_list = []\n",
        "\n",
        "iter_per_epoch = max(train_size / batch_size, 1)\n",
        "\n",
        "for i in range(iters_num):\n",
        "    batch_mask = np.random.choice(train_size, batch_size)\n",
        "    x_batch = x_train[batch_mask]\n",
        "    t_batch = t_train[batch_mask]\n",
        "    \n",
        "    # 기울기 계산\n",
        "    #grad = network.numerical_gradient(x_batch, t_batch) # 수치 미분 방식\n",
        "    grad = network.gradient(x_batch, t_batch) # 오차역전파법 방식(훨씬 빠르다)\n",
        "    \n",
        "    # 갱신\n",
        "    for key in ('W1', 'b1', 'W2', 'b2'):\n",
        "        network.params[key] -= learning_rate * grad[key]\n",
        "    \n",
        "    loss = network.loss(x_batch, t_batch)\n",
        "    train_loss_list.append(loss)\n",
        "    \n",
        "    if i % iter_per_epoch == 0:\n",
        "        train_acc = network.accuracy(x_train, t_train)\n",
        "        test_acc = network.accuracy(x_test, t_test)\n",
        "        train_acc_list.append(train_acc)\n",
        "        test_acc_list.append(test_acc)\n",
        "        print(train_acc, test_acc)\n"
      ],
      "execution_count": null,
      "outputs": [
        {
          "output_type": "stream",
          "text": [
            "0.14605 0.1567\n",
            "0.8998666666666667 0.9026\n",
            "0.9196833333333333 0.9227\n",
            "0.9345666666666667 0.9347\n",
            "0.9429 0.9416\n",
            "0.9473 0.9455\n",
            "0.95395 0.949\n",
            "0.9597333333333333 0.9557\n",
            "0.9618833333333333 0.9588\n",
            "0.9659333333333333 0.9596\n",
            "0.9659166666666666 0.961\n",
            "0.9693166666666667 0.9627\n",
            "0.9716666666666667 0.9633\n",
            "0.9737666666666667 0.9652\n",
            "0.9743833333333334 0.9669\n",
            "0.9772333333333333 0.9686\n",
            "0.9774 0.9686\n"
          ],
          "name": "stdout"
        }
      ]
    }
  ]
}
