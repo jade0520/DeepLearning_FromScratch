{
  "nbformat": 4,
  "nbformat_minor": 0,
  "metadata": {
    "colab": {
      "name": "2_CH06.ipynb",
      "provenance": [],
      "toc_visible": true,
      "authorship_tag": "ABX9TyO4oZfbHHcSxaNlZ3l+XU3R",
      "include_colab_link": true
    },
    "kernelspec": {
      "name": "python3",
      "display_name": "Python 3"
    },
    "accelerator": "GPU"
  },
  "cells": [
    {
      "cell_type": "markdown",
      "metadata": {
        "id": "view-in-github",
        "colab_type": "text"
      },
      "source": [
        "<a href=\"https://colab.research.google.com/github/jade0520/DeepLearning_FromScratch/blob/master/2nd/2_CH06.ipynb\" target=\"_parent\"><img src=\"https://colab.research.google.com/assets/colab-badge.svg\" alt=\"Open In Colab\"/></a>"
      ]
    },
    {
      "cell_type": "code",
      "metadata": {
        "id": "6C6Dx2-yuc0f",
        "colab_type": "code",
        "colab": {
          "base_uri": "https://localhost:8080/",
          "height": 105
        },
        "outputId": "7384ed91-cd0f-4836-e4f9-db178db0642a"
      },
      "source": [
        "! git clone https://github.com/WegraLee/deep-learning-from-scratch-2.git"
      ],
      "execution_count": null,
      "outputs": [
        {
          "output_type": "stream",
          "text": [
            "Cloning into 'deep-learning-from-scratch-2'...\n",
            "remote: Enumerating objects: 580, done.\u001b[K\n",
            "remote: Total 580 (delta 0), reused 0 (delta 0), pack-reused 580\u001b[K\n",
            "Receiving objects: 100% (580/580), 29.81 MiB | 9.03 MiB/s, done.\n",
            "Resolving deltas: 100% (349/349), done.\n"
          ],
          "name": "stdout"
        }
      ]
    },
    {
      "cell_type": "code",
      "metadata": {
        "id": "vT2QwXaGuj6j",
        "colab_type": "code",
        "colab": {}
      },
      "source": [
        "import os\n",
        "os.chdir('/content/deep-learning-from-scratch-2')"
      ],
      "execution_count": null,
      "outputs": []
    },
    {
      "cell_type": "markdown",
      "metadata": {
        "id": "bjZQklmAuqPr",
        "colab_type": "text"
      },
      "source": [
        "# 6.1 RNN의 문제점\n",
        "\n",
        "  * 장기 의존 관계 파악이 어렵다.(기울기 소실/폭발로 인해)"
      ]
    },
    {
      "cell_type": "markdown",
      "metadata": {
        "id": "KEtTeQHGu28T",
        "colab_type": "text"
      },
      "source": [
        "## 6.1.3 기울기 소실과 기울기 폭발의 원인\n",
        "\n",
        "* 역전파 시 지나는 노드\n",
        "  1. MatMul: 행렬의 특이 값에 따라 기울기 폭발/소실 \n",
        "  2. tanh : 0과 1사이의 수가 반복해서 곱해짐, 기울기 소실 >> ReLu사용시 개선\n",
        "\n",
        "\n"
      ]
    },
    {
      "cell_type": "markdown",
      "metadata": {
        "id": "-1IKEeIUwPen",
        "colab_type": "text"
      },
      "source": [
        "## 6.1.4 기울기 폭발 대책\n",
        "  * 기울기 클리핑 : 문턱 값을 초과하면 기울기를 제한한다.\n",
        "    \n",
        "      기울기 벡터 gradient vector의 방향은 유지/ 크기만 작게 조정\n",
        "\n",
        "      \n",
        " 확률적 경사하강법(SGD)가 아닌, 아담Adam과 같은 동적인 학습률을 갖는 옵티마이저optimizer를 사용할 경우, 그래디언트 클리핑을 적용하지 않아도 괜찮으며, 안전장치로 사용 가능.\n",
        "\n",
        " [참고 글](https://kh-kim.gitbook.io/natural-language-processing-with-pytorch/00-cover-6/05-gradient-clipping)"
      ]
    },
    {
      "cell_type": "code",
      "metadata": {
        "id": "MdIGFk30xZZW",
        "colab_type": "code",
        "colab": {}
      },
      "source": [
        "import numpy as np\n",
        "\n",
        "# 임의 가중치 설정\n",
        "dW1 = np.random.rand(3,3) * 10\n",
        "dW2 = np.random.rand(3,3) * 10\n",
        "\n",
        "grads  = [dW1,dW2]\n",
        "\n",
        "# max_norm : 문턱 값\n",
        "def clip_grads(grads, max_norm):\n",
        "  total_norm = 0\n",
        "\n",
        "# 기울기 노름 구하기\n",
        "  for grad in grads : \n",
        "    total_norm += np.sum(grad ** 2)   \n",
        "  total_norm = np.sqrt(total_norm)\n",
        "\n",
        "  rate = max_norm /(total_norm + 1e-6)\n",
        "\n",
        "#문턱 값을 초과 할 경우\n",
        "  if rate < 1 :\n",
        "\n",
        "    #문턱값에 노름은 나누 값을 기울기에 곱하여 사용한다.\n",
        "    for grad in grads:\n",
        "      grad *= rate\n",
        "\n"
      ],
      "execution_count": null,
      "outputs": []
    },
    {
      "cell_type": "markdown",
      "metadata": {
        "id": "5Aixbz5m2yZG",
        "colab_type": "text"
      },
      "source": [
        "# 6.2 기울기 소실과 LSTM"
      ]
    },
    {
      "cell_type": "markdown",
      "metadata": {
        "id": "vcYsiiV222iM",
        "colab_type": "text"
      },
      "source": [
        "##6.2.1 LSTM의 인터페이스 \n",
        "\n",
        "  게이트가 추가된 RNN 1) LSTM 2) GRU\n",
        "\n",
        "  LSTM의 기억셀\n",
        "  * LSTM 계층에서만 주고 받는다. "
      ]
    },
    {
      "cell_type": "markdown",
      "metadata": {
        "id": "V5zolXpk4q5E",
        "colab_type": "text"
      },
      "source": [
        "## 6.2.2 LSMT 계층 조립하기\n",
        "  현재 시간 t의 은닉상태 ht는 현재 기억셀 Ct를 tanh를 거치게 한 값이다. \n",
        "  \n",
        "  이때, 기억셀은 이전 기억셀 Ct-1과 이전 은닉층의 결과, 현재 입력의 조합으로 이루어진다.\n",
        "\n",
        "  "
      ]
    },
    {
      "cell_type": "markdown",
      "metadata": {
        "id": "appuXAVw6TYP",
        "colab_type": "text"
      },
      "source": [
        "## 6.2.3 output 게이트\n",
        "\n",
        "* 은닉상태 ht를 조절하는 게이트. \n",
        "* 아다마르 곱을 통하여 ht와 곱해진다.\n",
        "* 현재 입력과 이전 상태의 출력으로 부터 구하며, 시그 모이드를 거친다.\n",
        "\n",
        "\n"
      ]
    },
    {
      "cell_type": "markdown",
      "metadata": {
        "id": "VsUPA1-s7THH",
        "colab_type": "text"
      },
      "source": [
        "## 6.2.4 forget 게이트 \n",
        "  * 이전 기억셀 Ct 에서 무엇을 잊을 지를 결정한다.\n",
        "  * 이전 기억셀 Ct와 아다마르 곱을 하여 조정하게 된다.\n",
        "  * 현재 입력과 이전 상태의 출력으로 부터 구하며, 시그 모이드를 거친다."
      ]
    },
    {
      "cell_type": "markdown",
      "metadata": {
        "id": "GTSiCZ408GVO",
        "colab_type": "text"
      },
      "source": [
        "## 6.2.5 새로운 기억셀\n",
        "  현재 입력과 이전 은닉층 출력으로 이루어진 새로운 정보 이다. \n",
        "\n",
        "  이전시각의 정보중 필요 없는 정보는 잊은 후에 새로운 정보를 받을 수 있게 한는 것이다."
      ]
    },
    {
      "cell_type": "markdown",
      "metadata": {
        "id": "A03cVoI68Max",
        "colab_type": "text"
      },
      "source": [
        "## 6.2.6 input 게이트\n",
        " 새로 입력 되는 현대 기억중이 얼마나 중요한지를 학습하여, 새로운 정보를 조절하는 게이트이다.\n",
        "  * 새로운 기억셀 g와 아다마르 곱을 하여 조정하게 된다.\n",
        "  * 현재 입력과 이전 상태의 출력으로 부터 구하며, 시그 모이드를 거친다."
      ]
    },
    {
      "cell_type": "markdown",
      "metadata": {
        "id": "jtmdnYT58uWF",
        "colab_type": "text"
      },
      "source": [
        "## 6.2.7 LSTM의 기울기 흐름\n",
        "  기울기 소실을 없애는 원리\n",
        "\n",
        "  * 기억셀의 역전파에 있는 두가지 노드\n",
        "    \n",
        "    1.  '+' 노드 : 그대로 흘릴 뿐, 기울기 변화 없다.\n",
        "    2.  '*' 노드 : 행렬곱이 아닌 원소별 곱이며, 매 시각마다 다른 게이트 값과 곱해지므로 곱셈 효과가 누적되지 않는다.\n"
      ]
    },
    {
      "cell_type": "markdown",
      "metadata": {
        "id": "VvZmkg7590-I",
        "colab_type": "text"
      },
      "source": [
        "# 6.3 LSTM 구현"
      ]
    },
    {
      "cell_type": "markdown",
      "metadata": {
        "id": "ROF9_u_6b50i",
        "colab_type": "text"
      },
      "source": [
        "LSTM 구현"
      ]
    },
    {
      "cell_type": "code",
      "metadata": {
        "id": "L4O5gCP78t_Y",
        "colab_type": "code",
        "colab": {}
      },
      "source": [
        "class LSTM:\n",
        "  \n",
        "  def __init__(self, Wx, Wh, b):\n",
        "      # 각각의 가중치/편향에는 4개의 가중치/편향(f,g,i,o) 가 저장됨\n",
        "      self.params = [Wx,Wh, b]\n",
        "      self.grads = [np.zero_like(Wx), np.zeros_like(Wh), np.zero_like(b)]\n",
        "      self.cache = None\n",
        "\n",
        "  def forward(self, x, h_prev, c_prev):\n",
        "    Wx, Wh, b = self.params\n",
        "    N, H = h_prev.shape\n",
        "\n",
        "    A = np.matmul(x,Wx) + np.matmul(h_prev,Wh) + b\n",
        "\n",
        "    # 각 용도에 맞게 slice\n",
        "    f = A[:, :H]\n",
        "    g = A[:, H:2*H]\n",
        "    i = A[:, 2*H:3*H]\n",
        "    o = A[:, 3*H:4*H]\n",
        "\n",
        "    # gate는 sigmoid / 일반정보는 tanh\n",
        "    f = sigmoid(f)\n",
        "    g = np.tanh(g)\n",
        "    i = sigmoid(i)\n",
        "    o = sigmoid(o)\n",
        "\n",
        "    c_next = f * c_prev + g * i \n",
        "    h_next = o * np.tanh(c_next)\n",
        "\n",
        "\n",
        "    # 캐시에 일시 저장\n",
        "    self.cache = (x,h_prev , c_prev, i , f, g, o, c_next)\n",
        "\n",
        "    return h_next, c_next\n",
        "\n"
      ],
      "execution_count": null,
      "outputs": []
    },
    {
      "cell_type": "markdown",
      "metadata": {
        "id": "AVfblSt8NdUV",
        "colab_type": "text"
      },
      "source": [
        "## 6.3.1 Time LSTM 구현"
      ]
    },
    {
      "cell_type": "markdown",
      "metadata": {
        "id": "wP_ivKERN_xi",
        "colab_type": "text"
      },
      "source": [
        "\n",
        "순전파 구현을 위해 중간에 h와 c를 전달해줘야함"
      ]
    },
    {
      "cell_type": "code",
      "metadata": {
        "id": "h1zpF4qL4pe8",
        "colab_type": "code",
        "colab": {}
      },
      "source": [
        "class TimeLSTM:\n",
        "  def __init__(self,Wx, Wh, b, stateful = False):\n",
        "      self.params = [Wx,Wh,b]\n",
        "      self.grads = [np.zeros_like(Wx), np.zeros_like(Wh), np.zero_like(b)]\n",
        "      self.layers = None\n",
        "\n",
        "      self.h, self.c = None, None\n",
        "      self.dh = None\n",
        "      self.stateful = stateful\n",
        "\n",
        "  def forward(self,xs):\n",
        "      Wx, Wh, b = self.params   # 초기화한 매개변수 값 저장\n",
        "      N,T,D = xs.shape          # 미니배치, 시계열 길이, 데이터 개수 저장\n",
        "      H = Wh.shape[0]           # Wh개수 저장 (은닉층 뉴런 개수 )\n",
        "\n",
        "      self.layers = []          # 레이어 저장용\n",
        "      hs = np.empty((N,T,H),dtype = 'f')  # 은닉층 출력\n",
        "\n",
        "      # 처음 시작할때는 초기 h와 c를 zero로 지정한다.\n",
        "      if not self.stateful or self.h is None:\n",
        "          self.h = np.zeros((N,H),dtype = 'f')\n",
        "\n",
        "      if not self.stateful or self.c is None:\n",
        "          self.c = np.zeros((N,H),dtype = 'f')\n",
        "\n",
        "      # 시계열 길이 T만큼 lstm 레이어 생성후 h,c 받고 hs 열에 저장.\n",
        "      \n",
        "      for t in range(T):\n",
        "        layer = LSTM(*self.params)\n",
        "        self.h, self.c = layer.forward(xs[:,t,:], self.h ,self.c) # 이전 h와 c가 넘겨진다.\n",
        "        hs[:,t,:] =self.h       # 이때 c는 LSTM 계층 내에서만 도니까 TimeLSTM에서 저장하지는 않는다.\n",
        "\n",
        "        self.layers.append(layer)\n",
        "      \n",
        "      return hs\n",
        "\n",
        "  def backward(self,dhs) : \n",
        "    Wx, Wh, b = self.params\n",
        "    N,T,H = dhs.shape\n",
        "    D = Wx.shape[0]\n",
        "\n",
        "    dxs = np.empty((N,T,D), dtype = 'f')\n",
        "    dh, dc = 0,0\n",
        "\n",
        "    # Truncated 이므로 Time LSTM의 처음 시작은 항상 0\n",
        "    grads = [0, 0, 0]\n",
        "\n",
        "    # 반대의 순서로 역전파를 진행한다.\n",
        "    for t in reverse(range(T)):\n",
        "        layer = self.layers[t]\n",
        "        dx,dh,dc = layer.backward(dhs[:,t,:]+dh, dc)\n",
        "        dxs[:,t,:] = dx\n",
        "\n",
        "        # 같은 가중치를 사용하므로, 기울기는 각각 더해준다.\n",
        "        for i, grad in enumerate(layer.grads):\n",
        "            grads[i] += grad\n",
        "    \n",
        "    # Time LSTM에 결과 기울기 전하기,// 결과 dxs\n",
        "    for i, grad in enumerate(grads):\n",
        "        self.grads[i][...] = grad\n",
        "        self.dh = dh\n",
        "        return dxs\n",
        "\n",
        "  # 포워드에서는 미리 h,c 0으로 셋팅하지 않나? 얘는 왜 필요? >> 다음 TimeLSTM 을 위해 필요한듯??? >>> 한번 밖에 안쓴느거 같은데??????????\n",
        "  def set_state(self,h, c= None):\n",
        "      self.h, self.c = h,c \n",
        "  \n",
        "  def reset_state(self):\n",
        "      self.h, self.c = None"
      ],
      "execution_count": null,
      "outputs": []
    },
    {
      "cell_type": "markdown",
      "metadata": {
        "id": "KJtI1GOGqjeJ",
        "colab_type": "text"
      },
      "source": [
        "## 6.4 LSTM을 사용한 언어 모델"
      ]
    },
    {
      "cell_type": "markdown",
      "metadata": {
        "id": "6jr6RsX2rILF",
        "colab_type": "text"
      },
      "source": [
        ""
      ]
    },
    {
      "cell_type": "code",
      "metadata": {
        "id": "79uzyzW73pp9",
        "colab_type": "code",
        "colab": {
          "base_uri": "https://localhost:8080/",
          "height": 1000
        },
        "outputId": "3285c416-448c-4c77-e909-9bcfdfe66f52"
      },
      "source": [
        "from common.optimizer import SGD\n",
        "from common.trainer import RnnlmTrainer\n",
        "from common.util import eval_perplexity\n",
        "from dataset import ptb\n",
        "from ch06.rnnlm import Rnnlm\n",
        "\n",
        "\n",
        "# 하이퍼파라미터 설정\n",
        "batch_size = 20\n",
        "wordvec_size = 100\n",
        "hidden_size = 100  # RNN의 은닉 상태 벡터의 원소 수\n",
        "time_size = 35     # RNN을 펼치는 크기\n",
        "lr = 20.0\n",
        "max_epoch = 4\n",
        "max_grad = 0.25\n",
        "\n",
        "# 학습 데이터 읽기\n",
        "corpus, word_to_id, id_to_word = ptb.load_data('train')\n",
        "corpus_test, _, _ = ptb.load_data('test')\n",
        "vocab_size = len(word_to_id)\n",
        "xs = corpus[:-1]\n",
        "ts = corpus[1:]\n",
        "\n",
        "# 모델 생성\n",
        "model = Rnnlm(vocab_size, wordvec_size, hidden_size)\n",
        "optimizer = SGD(lr)\n",
        "trainer = RnnlmTrainer(model, optimizer)\n",
        "\n",
        "# 기울기 클리핑을 적용하여 학습  : max_grad = 기울기 클리핑 문턱\n",
        "trainer.fit(xs, ts, max_epoch, batch_size, time_size, max_grad, eval_interval=20)\n",
        "trainer.plot(ylim=(0, 500))\n",
        "\n",
        "# 테스트 데이터로 평가\n",
        "model.reset_state()\n",
        "ppl_test = eval_perplexity(model, corpus_test)\n",
        "print('테스트 퍼플렉서티: ', ppl_test)\n",
        "\n",
        "# 매개변수 저장\n",
        "model.save_params()"
      ],
      "execution_count": null,
      "outputs": [
        {
          "output_type": "stream",
          "text": [
            "Downloading ptb.train.txt ... \n",
            "Done\n",
            "Downloading ptb.test.txt ... \n",
            "Done\n",
            "| 에폭 1 |  반복 1 / 1327 | 시간 0[s] | 퍼플렉서티 9999.71\n",
            "| 에폭 1 |  반복 21 / 1327 | 시간 7[s] | 퍼플렉서티 3853.17\n",
            "| 에폭 1 |  반복 41 / 1327 | 시간 13[s] | 퍼플렉서티 1241.23\n",
            "| 에폭 1 |  반복 61 / 1327 | 시간 20[s] | 퍼플렉서티 988.39\n",
            "| 에폭 1 |  반복 81 / 1327 | 시간 27[s] | 퍼플렉서티 802.29\n",
            "| 에폭 1 |  반복 101 / 1327 | 시간 33[s] | 퍼플렉서티 693.06\n",
            "| 에폭 1 |  반복 121 / 1327 | 시간 40[s] | 퍼플렉서티 641.83\n",
            "| 에폭 1 |  반복 141 / 1327 | 시간 47[s] | 퍼플렉서티 603.28\n",
            "| 에폭 1 |  반복 161 / 1327 | 시간 53[s] | 퍼플렉서티 583.09\n",
            "| 에폭 1 |  반복 181 / 1327 | 시간 60[s] | 퍼플렉서티 593.29\n",
            "| 에폭 1 |  반복 201 / 1327 | 시간 67[s] | 퍼플렉서티 496.74\n",
            "| 에폭 1 |  반복 221 / 1327 | 시간 73[s] | 퍼플렉서티 499.73\n",
            "| 에폭 1 |  반복 241 / 1327 | 시간 80[s] | 퍼플렉서티 449.71\n",
            "| 에폭 1 |  반복 261 / 1327 | 시간 87[s] | 퍼플렉서티 467.33\n",
            "| 에폭 1 |  반복 281 / 1327 | 시간 93[s] | 퍼플렉서티 452.66\n",
            "| 에폭 1 |  반복 301 / 1327 | 시간 100[s] | 퍼플렉서티 401.64\n",
            "| 에폭 1 |  반복 321 / 1327 | 시간 107[s] | 퍼플렉서티 343.59\n",
            "| 에폭 1 |  반복 341 / 1327 | 시간 113[s] | 퍼플렉서티 405.66\n",
            "| 에폭 1 |  반복 361 / 1327 | 시간 120[s] | 퍼플렉서티 402.42\n",
            "| 에폭 1 |  반복 381 / 1327 | 시간 127[s] | 퍼플렉서티 333.27\n",
            "| 에폭 1 |  반복 401 / 1327 | 시간 133[s] | 퍼플렉서티 352.16\n",
            "| 에폭 1 |  반복 421 / 1327 | 시간 140[s] | 퍼플렉서티 341.32\n",
            "| 에폭 1 |  반복 441 / 1327 | 시간 147[s] | 퍼플렉서티 329.08\n",
            "| 에폭 1 |  반복 461 / 1327 | 시간 153[s] | 퍼플렉서티 323.11\n",
            "| 에폭 1 |  반복 481 / 1327 | 시간 160[s] | 퍼플렉서티 304.92\n",
            "| 에폭 1 |  반복 501 / 1327 | 시간 167[s] | 퍼플렉서티 311.55\n",
            "| 에폭 1 |  반복 521 / 1327 | 시간 173[s] | 퍼플렉서티 298.93\n",
            "| 에폭 1 |  반복 541 / 1327 | 시간 180[s] | 퍼플렉서티 326.34\n",
            "| 에폭 1 |  반복 561 / 1327 | 시간 186[s] | 퍼플렉서티 285.51\n",
            "| 에폭 1 |  반복 581 / 1327 | 시간 193[s] | 퍼플렉서티 258.07\n",
            "| 에폭 1 |  반복 601 / 1327 | 시간 199[s] | 퍼플렉서티 336.01\n",
            "| 에폭 1 |  반복 621 / 1327 | 시간 206[s] | 퍼플렉서티 314.43\n",
            "| 에폭 1 |  반복 641 / 1327 | 시간 212[s] | 퍼플렉서티 285.50\n",
            "| 에폭 1 |  반복 661 / 1327 | 시간 219[s] | 퍼플렉서티 267.63\n",
            "| 에폭 1 |  반복 681 / 1327 | 시간 226[s] | 퍼플렉서티 228.69\n",
            "| 에폭 1 |  반복 701 / 1327 | 시간 232[s] | 퍼플렉서티 251.90\n",
            "| 에폭 1 |  반복 721 / 1327 | 시간 239[s] | 퍼플렉서티 261.02\n",
            "| 에폭 1 |  반복 741 / 1327 | 시간 246[s] | 퍼플렉서티 226.09\n",
            "| 에폭 1 |  반복 761 / 1327 | 시간 252[s] | 퍼플렉서티 233.01\n",
            "| 에폭 1 |  반복 781 / 1327 | 시간 259[s] | 퍼플렉서티 219.43\n",
            "| 에폭 1 |  반복 801 / 1327 | 시간 265[s] | 퍼플렉서티 242.13\n",
            "| 에폭 1 |  반복 821 / 1327 | 시간 272[s] | 퍼플렉서티 226.60\n",
            "| 에폭 1 |  반복 841 / 1327 | 시간 278[s] | 퍼플렉서티 228.45\n",
            "| 에폭 1 |  반복 861 / 1327 | 시간 285[s] | 퍼플렉서티 221.84\n",
            "| 에폭 1 |  반복 881 / 1327 | 시간 291[s] | 퍼플렉서티 206.71\n",
            "| 에폭 1 |  반복 901 / 1327 | 시간 298[s] | 퍼플렉서티 252.53\n",
            "| 에폭 1 |  반복 921 / 1327 | 시간 304[s] | 퍼플렉서티 227.12\n",
            "| 에폭 1 |  반복 941 / 1327 | 시간 311[s] | 퍼플렉서티 229.96\n",
            "| 에폭 1 |  반복 961 / 1327 | 시간 318[s] | 퍼플렉서티 246.65\n",
            "| 에폭 1 |  반복 981 / 1327 | 시간 324[s] | 퍼플렉서티 231.42\n",
            "| 에폭 1 |  반복 1001 / 1327 | 시간 331[s] | 퍼플렉서티 191.98\n",
            "| 에폭 1 |  반복 1021 / 1327 | 시간 337[s] | 퍼플렉서티 225.78\n",
            "| 에폭 1 |  반복 1041 / 1327 | 시간 344[s] | 퍼플렉서티 207.98\n",
            "| 에폭 1 |  반복 1061 / 1327 | 시간 350[s] | 퍼플렉서티 197.81\n",
            "| 에폭 1 |  반복 1081 / 1327 | 시간 357[s] | 퍼플렉서티 169.98\n",
            "| 에폭 1 |  반복 1101 / 1327 | 시간 363[s] | 퍼플렉서티 192.00\n",
            "| 에폭 1 |  반복 1121 / 1327 | 시간 370[s] | 퍼플렉서티 228.92\n",
            "| 에폭 1 |  반복 1141 / 1327 | 시간 377[s] | 퍼플렉서티 208.29\n",
            "| 에폭 1 |  반복 1161 / 1327 | 시간 383[s] | 퍼플렉서티 198.62\n",
            "| 에폭 1 |  반복 1181 / 1327 | 시간 390[s] | 퍼플렉서티 190.42\n",
            "| 에폭 1 |  반복 1201 / 1327 | 시간 396[s] | 퍼플렉서티 164.46\n",
            "| 에폭 1 |  반복 1221 / 1327 | 시간 403[s] | 퍼플렉서티 158.48\n",
            "| 에폭 1 |  반복 1241 / 1327 | 시간 409[s] | 퍼플렉서티 190.29\n",
            "| 에폭 1 |  반복 1261 / 1327 | 시간 416[s] | 퍼플렉서티 172.40\n",
            "| 에폭 1 |  반복 1281 / 1327 | 시간 422[s] | 퍼플렉서티 179.44\n",
            "| 에폭 1 |  반복 1301 / 1327 | 시간 429[s] | 퍼플렉서티 221.44\n",
            "| 에폭 1 |  반복 1321 / 1327 | 시간 436[s] | 퍼플렉서티 211.54\n",
            "| 에폭 2 |  반복 1 / 1327 | 시간 438[s] | 퍼플렉서티 225.62\n",
            "| 에폭 2 |  반복 21 / 1327 | 시간 444[s] | 퍼플렉서티 206.94\n",
            "| 에폭 2 |  반복 41 / 1327 | 시간 451[s] | 퍼플렉서티 190.21\n",
            "| 에폭 2 |  반복 61 / 1327 | 시간 458[s] | 퍼플렉서티 177.00\n",
            "| 에폭 2 |  반복 81 / 1327 | 시간 464[s] | 퍼플렉서티 159.77\n",
            "| 에폭 2 |  반복 101 / 1327 | 시간 471[s] | 퍼플렉서티 152.08\n",
            "| 에폭 2 |  반복 121 / 1327 | 시간 477[s] | 퍼플렉서티 160.82\n",
            "| 에폭 2 |  반복 141 / 1327 | 시간 484[s] | 퍼플렉서티 177.55\n",
            "| 에폭 2 |  반복 161 / 1327 | 시간 490[s] | 퍼플렉서티 192.21\n",
            "| 에폭 2 |  반복 181 / 1327 | 시간 497[s] | 퍼플렉서티 201.85\n",
            "| 에폭 2 |  반복 201 / 1327 | 시간 504[s] | 퍼플렉서티 183.77\n",
            "| 에폭 2 |  반복 221 / 1327 | 시간 510[s] | 퍼플렉서티 185.36\n",
            "| 에폭 2 |  반복 241 / 1327 | 시간 517[s] | 퍼플렉서티 176.29\n",
            "| 에폭 2 |  반복 261 / 1327 | 시간 523[s] | 퍼플렉서티 186.54\n",
            "| 에폭 2 |  반복 281 / 1327 | 시간 530[s] | 퍼플렉서티 187.19\n",
            "| 에폭 2 |  반복 301 / 1327 | 시간 536[s] | 퍼플렉서티 167.21\n",
            "| 에폭 2 |  반복 321 / 1327 | 시간 543[s] | 퍼플렉서티 140.19\n",
            "| 에폭 2 |  반복 341 / 1327 | 시간 549[s] | 퍼플렉서티 170.45\n",
            "| 에폭 2 |  반복 361 / 1327 | 시간 556[s] | 퍼플렉서티 197.74\n",
            "| 에폭 2 |  반복 381 / 1327 | 시간 563[s] | 퍼플렉서티 155.05\n",
            "| 에폭 2 |  반복 401 / 1327 | 시간 569[s] | 퍼플렉서티 167.56\n",
            "| 에폭 2 |  반복 421 / 1327 | 시간 576[s] | 퍼플렉서티 155.25\n",
            "| 에폭 2 |  반복 441 / 1327 | 시간 582[s] | 퍼플렉서티 162.18\n",
            "| 에폭 2 |  반복 461 / 1327 | 시간 589[s] | 퍼플렉서티 155.35\n",
            "| 에폭 2 |  반복 481 / 1327 | 시간 595[s] | 퍼플렉서티 156.91\n",
            "| 에폭 2 |  반복 501 / 1327 | 시간 602[s] | 퍼플렉서티 170.52\n",
            "| 에폭 2 |  반복 521 / 1327 | 시간 608[s] | 퍼플렉서티 174.11\n",
            "| 에폭 2 |  반복 541 / 1327 | 시간 615[s] | 퍼플렉서티 175.46\n",
            "| 에폭 2 |  반복 561 / 1327 | 시간 621[s] | 퍼플렉서티 156.53\n",
            "| 에폭 2 |  반복 581 / 1327 | 시간 628[s] | 퍼플렉서티 138.43\n",
            "| 에폭 2 |  반복 601 / 1327 | 시간 635[s] | 퍼플렉서티 189.99\n",
            "| 에폭 2 |  반복 621 / 1327 | 시간 641[s] | 퍼플렉서티 181.77\n",
            "| 에폭 2 |  반복 641 / 1327 | 시간 648[s] | 퍼플렉서티 166.00\n",
            "| 에폭 2 |  반복 661 / 1327 | 시간 654[s] | 퍼플렉서티 154.46\n",
            "| 에폭 2 |  반복 681 / 1327 | 시간 661[s] | 퍼플렉서티 130.17\n",
            "| 에폭 2 |  반복 701 / 1327 | 시간 667[s] | 퍼플렉서티 151.88\n",
            "| 에폭 2 |  반복 721 / 1327 | 시간 674[s] | 퍼플렉서티 160.03\n",
            "| 에폭 2 |  반복 741 / 1327 | 시간 680[s] | 퍼플렉서티 134.73\n",
            "| 에폭 2 |  반복 761 / 1327 | 시간 687[s] | 퍼플렉서티 132.71\n",
            "| 에폭 2 |  반복 781 / 1327 | 시간 693[s] | 퍼플렉서티 134.83\n",
            "| 에폭 2 |  반복 801 / 1327 | 시간 700[s] | 퍼플렉서티 147.54\n",
            "| 에폭 2 |  반복 821 / 1327 | 시간 706[s] | 퍼플렉서티 145.22\n",
            "| 에폭 2 |  반복 841 / 1327 | 시간 713[s] | 퍼플렉서티 144.54\n",
            "| 에폭 2 |  반복 861 / 1327 | 시간 719[s] | 퍼플렉서티 146.13\n",
            "| 에폭 2 |  반복 881 / 1327 | 시간 726[s] | 퍼플렉서티 130.66\n",
            "| 에폭 2 |  반복 901 / 1327 | 시간 732[s] | 퍼플렉서티 167.40\n",
            "| 에폭 2 |  반복 921 / 1327 | 시간 739[s] | 퍼플렉서티 147.61\n",
            "| 에폭 2 |  반복 941 / 1327 | 시간 745[s] | 퍼플렉서티 155.33\n",
            "| 에폭 2 |  반복 961 / 1327 | 시간 752[s] | 퍼플렉서티 165.33\n",
            "| 에폭 2 |  반복 981 / 1327 | 시간 758[s] | 퍼플렉서티 155.30\n",
            "| 에폭 2 |  반복 1001 / 1327 | 시간 765[s] | 퍼플렉서티 132.16\n",
            "| 에폭 2 |  반복 1021 / 1327 | 시간 771[s] | 퍼플렉서티 155.73\n",
            "| 에폭 2 |  반복 1041 / 1327 | 시간 778[s] | 퍼플렉서티 143.14\n",
            "| 에폭 2 |  반복 1061 / 1327 | 시간 784[s] | 퍼플렉서티 129.59\n",
            "| 에폭 2 |  반복 1081 / 1327 | 시간 791[s] | 퍼플렉서티 111.80\n",
            "| 에폭 2 |  반복 1101 / 1327 | 시간 798[s] | 퍼플렉서티 120.72\n",
            "| 에폭 2 |  반복 1121 / 1327 | 시간 804[s] | 퍼플렉서티 154.23\n",
            "| 에폭 2 |  반복 1141 / 1327 | 시간 811[s] | 퍼플렉서티 142.31\n",
            "| 에폭 2 |  반복 1161 / 1327 | 시간 817[s] | 퍼플렉서티 133.43\n",
            "| 에폭 2 |  반복 1181 / 1327 | 시간 824[s] | 퍼플렉서티 134.68\n",
            "| 에폭 2 |  반복 1201 / 1327 | 시간 830[s] | 퍼플렉서티 112.28\n",
            "| 에폭 2 |  반복 1221 / 1327 | 시간 837[s] | 퍼플렉서티 109.41\n",
            "| 에폭 2 |  반복 1241 / 1327 | 시간 843[s] | 퍼플렉서티 131.79\n",
            "| 에폭 2 |  반복 1261 / 1327 | 시간 850[s] | 퍼플렉서티 124.92\n",
            "| 에폭 2 |  반복 1281 / 1327 | 시간 857[s] | 퍼플렉서티 123.26\n",
            "| 에폭 2 |  반복 1301 / 1327 | 시간 863[s] | 퍼플렉서티 156.94\n",
            "| 에폭 2 |  반복 1321 / 1327 | 시간 870[s] | 퍼플렉서티 153.17\n",
            "| 에폭 3 |  반복 1 / 1327 | 시간 872[s] | 퍼플렉서티 162.45\n",
            "| 에폭 3 |  반복 21 / 1327 | 시간 879[s] | 퍼플렉서티 146.83\n",
            "| 에폭 3 |  반복 41 / 1327 | 시간 885[s] | 퍼플렉서티 135.22\n",
            "| 에폭 3 |  반복 61 / 1327 | 시간 892[s] | 퍼플렉서티 127.30\n",
            "| 에폭 3 |  반복 81 / 1327 | 시간 898[s] | 퍼플렉서티 117.45\n",
            "| 에폭 3 |  반복 101 / 1327 | 시간 904[s] | 퍼플렉서티 107.42\n",
            "| 에폭 3 |  반복 121 / 1327 | 시간 911[s] | 퍼플렉서티 116.66\n",
            "| 에폭 3 |  반복 141 / 1327 | 시간 918[s] | 퍼플렉서티 126.54\n",
            "| 에폭 3 |  반복 161 / 1327 | 시간 924[s] | 퍼플렉서티 142.56\n",
            "| 에폭 3 |  반복 181 / 1327 | 시간 931[s] | 퍼플렉서티 152.78\n",
            "| 에폭 3 |  반복 201 / 1327 | 시간 937[s] | 퍼플렉서티 141.12\n",
            "| 에폭 3 |  반복 221 / 1327 | 시간 944[s] | 퍼플렉서티 141.17\n",
            "| 에폭 3 |  반복 241 / 1327 | 시간 950[s] | 퍼플렉서티 135.52\n",
            "| 에폭 3 |  반복 261 / 1327 | 시간 957[s] | 퍼플렉서티 141.24\n",
            "| 에폭 3 |  반복 281 / 1327 | 시간 963[s] | 퍼플렉서티 142.95\n",
            "| 에폭 3 |  반복 301 / 1327 | 시간 970[s] | 퍼플렉서티 126.08\n",
            "| 에폭 3 |  반복 321 / 1327 | 시간 976[s] | 퍼플렉서티 103.62\n",
            "| 에폭 3 |  반복 341 / 1327 | 시간 983[s] | 퍼플렉서티 124.42\n",
            "| 에폭 3 |  반복 361 / 1327 | 시간 989[s] | 퍼플렉서티 153.95\n",
            "| 에폭 3 |  반복 381 / 1327 | 시간 996[s] | 퍼플렉서티 116.73\n",
            "| 에폭 3 |  반복 401 / 1327 | 시간 1002[s] | 퍼플렉서티 130.57\n",
            "| 에폭 3 |  반복 421 / 1327 | 시간 1009[s] | 퍼플렉서티 115.05\n",
            "| 에폭 3 |  반복 441 / 1327 | 시간 1015[s] | 퍼플렉서티 123.57\n",
            "| 에폭 3 |  반복 461 / 1327 | 시간 1022[s] | 퍼플렉서티 117.62\n",
            "| 에폭 3 |  반복 481 / 1327 | 시간 1028[s] | 퍼플렉서티 120.76\n",
            "| 에폭 3 |  반복 501 / 1327 | 시간 1035[s] | 퍼플렉서티 129.94\n",
            "| 에폭 3 |  반복 521 / 1327 | 시간 1041[s] | 퍼플렉서티 138.73\n",
            "| 에폭 3 |  반복 541 / 1327 | 시간 1048[s] | 퍼플렉서티 138.58\n",
            "| 에폭 3 |  반복 561 / 1327 | 시간 1054[s] | 퍼플렉서티 120.01\n",
            "| 에폭 3 |  반복 581 / 1327 | 시간 1061[s] | 퍼플렉서티 106.28\n",
            "| 에폭 3 |  반복 601 / 1327 | 시간 1068[s] | 퍼플렉서티 150.18\n",
            "| 에폭 3 |  반복 621 / 1327 | 시간 1074[s] | 퍼플렉서티 144.83\n",
            "| 에폭 3 |  반복 641 / 1327 | 시간 1080[s] | 퍼플렉서티 130.46\n",
            "| 에폭 3 |  반복 661 / 1327 | 시간 1087[s] | 퍼플렉서티 120.89\n",
            "| 에폭 3 |  반복 681 / 1327 | 시간 1093[s] | 퍼플렉서티 100.47\n",
            "| 에폭 3 |  반복 701 / 1327 | 시간 1100[s] | 퍼플렉서티 119.94\n",
            "| 에폭 3 |  반복 721 / 1327 | 시간 1107[s] | 퍼플렉서티 126.16\n",
            "| 에폭 3 |  반복 741 / 1327 | 시간 1113[s] | 퍼플렉서티 108.59\n",
            "| 에폭 3 |  반복 761 / 1327 | 시간 1120[s] | 퍼플렉서티 103.23\n",
            "| 에폭 3 |  반복 781 / 1327 | 시간 1126[s] | 퍼플렉서티 104.97\n",
            "| 에폭 3 |  반복 801 / 1327 | 시간 1133[s] | 퍼플렉서티 116.12\n",
            "| 에폭 3 |  반복 821 / 1327 | 시간 1139[s] | 퍼플렉서티 117.97\n",
            "| 에폭 3 |  반복 841 / 1327 | 시간 1146[s] | 퍼플렉서티 114.81\n",
            "| 에폭 3 |  반복 861 / 1327 | 시간 1152[s] | 퍼플렉서티 121.38\n",
            "| 에폭 3 |  반복 881 / 1327 | 시간 1159[s] | 퍼플렉서티 107.00\n",
            "| 에폭 3 |  반복 901 / 1327 | 시간 1166[s] | 퍼플렉서티 134.25\n",
            "| 에폭 3 |  반복 921 / 1327 | 시간 1172[s] | 퍼플렉서티 120.53\n",
            "| 에폭 3 |  반복 941 / 1327 | 시간 1179[s] | 퍼플렉서티 128.16\n",
            "| 에폭 3 |  반복 961 / 1327 | 시간 1185[s] | 퍼플렉서티 133.35\n",
            "| 에폭 3 |  반복 981 / 1327 | 시간 1192[s] | 퍼플렉서티 125.36\n",
            "| 에폭 3 |  반복 1001 / 1327 | 시간 1198[s] | 퍼플렉서티 110.85\n",
            "| 에폭 3 |  반복 1021 / 1327 | 시간 1205[s] | 퍼플렉서티 128.63\n",
            "| 에폭 3 |  반복 1041 / 1327 | 시간 1211[s] | 퍼플렉서티 120.04\n",
            "| 에폭 3 |  반복 1061 / 1327 | 시간 1218[s] | 퍼플렉서티 104.16\n",
            "| 에폭 3 |  반복 1081 / 1327 | 시간 1224[s] | 퍼플렉서티 89.92\n",
            "| 에폭 3 |  반복 1101 / 1327 | 시간 1231[s] | 퍼플렉서티 94.61\n",
            "| 에폭 3 |  반복 1121 / 1327 | 시간 1237[s] | 퍼플렉서티 122.79\n",
            "| 에폭 3 |  반복 1141 / 1327 | 시간 1244[s] | 퍼플렉서티 114.73\n",
            "| 에폭 3 |  반복 1161 / 1327 | 시간 1250[s] | 퍼플렉서티 107.28\n",
            "| 에폭 3 |  반복 1181 / 1327 | 시간 1257[s] | 퍼플렉서티 112.66\n",
            "| 에폭 3 |  반복 1201 / 1327 | 시간 1263[s] | 퍼플렉서티 94.31\n",
            "| 에폭 3 |  반복 1221 / 1327 | 시간 1270[s] | 퍼플렉서티 88.83\n",
            "| 에폭 3 |  반복 1241 / 1327 | 시간 1276[s] | 퍼플렉서티 106.51\n",
            "| 에폭 3 |  반복 1261 / 1327 | 시간 1283[s] | 퍼플렉서티 106.35\n",
            "| 에폭 3 |  반복 1281 / 1327 | 시간 1290[s] | 퍼플렉서티 101.08\n",
            "| 에폭 3 |  반복 1301 / 1327 | 시간 1296[s] | 퍼플렉서티 129.57\n",
            "| 에폭 3 |  반복 1321 / 1327 | 시간 1303[s] | 퍼플렉서티 126.33\n",
            "| 에폭 4 |  반복 1 / 1327 | 시간 1305[s] | 퍼플렉서티 134.15\n",
            "| 에폭 4 |  반복 21 / 1327 | 시간 1311[s] | 퍼플렉서티 124.23\n",
            "| 에폭 4 |  반복 41 / 1327 | 시간 1318[s] | 퍼플렉서티 107.78\n",
            "| 에폭 4 |  반복 61 / 1327 | 시간 1324[s] | 퍼플렉서티 108.74\n",
            "| 에폭 4 |  반복 81 / 1327 | 시간 1331[s] | 퍼플렉서티 96.15\n",
            "| 에폭 4 |  반복 101 / 1327 | 시간 1337[s] | 퍼플렉서티 88.07\n",
            "| 에폭 4 |  반복 121 / 1327 | 시간 1344[s] | 퍼플렉서티 96.90\n",
            "| 에폭 4 |  반복 141 / 1327 | 시간 1351[s] | 퍼플렉서티 103.73\n",
            "| 에폭 4 |  반복 161 / 1327 | 시간 1357[s] | 퍼플렉서티 119.04\n",
            "| 에폭 4 |  반복 181 / 1327 | 시간 1364[s] | 퍼플렉서티 131.17\n",
            "| 에폭 4 |  반복 201 / 1327 | 시간 1370[s] | 퍼플렉서티 120.38\n",
            "| 에폭 4 |  반복 221 / 1327 | 시간 1377[s] | 퍼플렉서티 122.52\n",
            "| 에폭 4 |  반복 241 / 1327 | 시간 1383[s] | 퍼플렉서티 115.19\n",
            "| 에폭 4 |  반복 261 / 1327 | 시간 1390[s] | 퍼플렉서티 116.64\n",
            "| 에폭 4 |  반복 281 / 1327 | 시간 1396[s] | 퍼플렉서티 121.87\n",
            "| 에폭 4 |  반복 301 / 1327 | 시간 1403[s] | 퍼플렉서티 106.60\n",
            "| 에폭 4 |  반복 321 / 1327 | 시간 1409[s] | 퍼플렉서티 85.50\n",
            "| 에폭 4 |  반복 341 / 1327 | 시간 1416[s] | 퍼플렉서티 100.84\n",
            "| 에폭 4 |  반복 361 / 1327 | 시간 1422[s] | 퍼플렉서티 129.23\n",
            "| 에폭 4 |  반복 381 / 1327 | 시간 1429[s] | 퍼플렉서티 100.02\n",
            "| 에폭 4 |  반복 401 / 1327 | 시간 1435[s] | 퍼플렉서티 110.95\n",
            "| 에폭 4 |  반복 421 / 1327 | 시간 1442[s] | 퍼플렉서티 94.92\n",
            "| 에폭 4 |  반복 441 / 1327 | 시간 1449[s] | 퍼플렉서티 103.37\n",
            "| 에폭 4 |  반복 461 / 1327 | 시간 1455[s] | 퍼플렉서티 100.22\n",
            "| 에폭 4 |  반복 481 / 1327 | 시간 1462[s] | 퍼플렉서티 103.67\n",
            "| 에폭 4 |  반복 501 / 1327 | 시간 1468[s] | 퍼플렉서티 109.30\n",
            "| 에폭 4 |  반복 521 / 1327 | 시간 1475[s] | 퍼플렉서티 117.92\n",
            "| 에폭 4 |  반복 541 / 1327 | 시간 1481[s] | 퍼플렉서티 114.15\n",
            "| 에폭 4 |  반복 561 / 1327 | 시간 1488[s] | 퍼플렉서티 104.16\n",
            "| 에폭 4 |  반복 581 / 1327 | 시간 1494[s] | 퍼플렉서티 89.92\n",
            "| 에폭 4 |  반복 601 / 1327 | 시간 1501[s] | 퍼플렉서티 126.87\n",
            "| 에폭 4 |  반복 621 / 1327 | 시간 1507[s] | 퍼플렉서티 124.03\n",
            "| 에폭 4 |  반복 641 / 1327 | 시간 1514[s] | 퍼플렉서티 112.43\n",
            "| 에폭 4 |  반복 661 / 1327 | 시간 1520[s] | 퍼플렉서티 103.05\n",
            "| 에폭 4 |  반복 681 / 1327 | 시간 1527[s] | 퍼플렉서티 85.09\n",
            "| 에폭 4 |  반복 701 / 1327 | 시간 1533[s] | 퍼플렉서티 103.02\n",
            "| 에폭 4 |  반복 721 / 1327 | 시간 1540[s] | 퍼플렉서티 108.06\n",
            "| 에폭 4 |  반복 741 / 1327 | 시간 1546[s] | 퍼플렉서티 96.38\n",
            "| 에폭 4 |  반복 761 / 1327 | 시간 1553[s] | 퍼플렉서티 88.41\n",
            "| 에폭 4 |  반복 801 / 1327 | 시간 1566[s] | 퍼플렉서티 99.04\n",
            "| 에폭 4 |  반복 821 / 1327 | 시간 1572[s] | 퍼플렉서티 104.60\n",
            "| 에폭 4 |  반복 841 / 1327 | 시간 1579[s] | 퍼플렉서티 99.42\n",
            "| 에폭 4 |  반복 861 / 1327 | 시간 1585[s] | 퍼플렉서티 105.76\n",
            "| 에폭 4 |  반복 881 / 1327 | 시간 1592[s] | 퍼플렉서티 93.03\n",
            "| 에폭 4 |  반복 901 / 1327 | 시간 1599[s] | 퍼플렉서티 116.60\n",
            "| 에폭 4 |  반복 921 / 1327 | 시간 1605[s] | 퍼플렉서티 104.34\n",
            "| 에폭 4 |  반복 941 / 1327 | 시간 1612[s] | 퍼플렉서티 113.11\n",
            "| 에폭 4 |  반복 961 / 1327 | 시간 1618[s] | 퍼플렉서티 113.90\n",
            "| 에폭 4 |  반복 981 / 1327 | 시간 1624[s] | 퍼플렉서티 108.68\n",
            "| 에폭 4 |  반복 1001 / 1327 | 시간 1631[s] | 퍼플렉서티 99.36\n",
            "| 에폭 4 |  반복 1021 / 1327 | 시간 1637[s] | 퍼플렉서티 114.12\n",
            "| 에폭 4 |  반복 1041 / 1327 | 시간 1644[s] | 퍼플렉서티 105.11\n",
            "| 에폭 4 |  반복 1061 / 1327 | 시간 1650[s] | 퍼플렉서티 90.64\n",
            "| 에폭 4 |  반복 1081 / 1327 | 시간 1657[s] | 퍼플렉서티 79.50\n",
            "| 에폭 4 |  반복 1101 / 1327 | 시간 1664[s] | 퍼플렉서티 80.18\n",
            "| 에폭 4 |  반복 1121 / 1327 | 시간 1670[s] | 퍼플렉서티 105.03\n",
            "| 에폭 4 |  반복 1141 / 1327 | 시간 1676[s] | 퍼플렉서티 100.79\n",
            "| 에폭 4 |  반복 1161 / 1327 | 시간 1683[s] | 퍼플렉서티 91.74\n",
            "| 에폭 4 |  반복 1181 / 1327 | 시간 1690[s] | 퍼플렉서티 96.88\n",
            "| 에폭 4 |  반복 1201 / 1327 | 시간 1696[s] | 퍼플렉서티 84.40\n",
            "| 에폭 4 |  반복 1221 / 1327 | 시간 1703[s] | 퍼플렉서티 76.14\n",
            "| 에폭 4 |  반복 1241 / 1327 | 시간 1709[s] | 퍼플렉서티 92.38\n",
            "| 에폭 4 |  반복 1261 / 1327 | 시간 1716[s] | 퍼플렉서티 95.02\n",
            "| 에폭 4 |  반복 1281 / 1327 | 시간 1722[s] | 퍼플렉서티 89.91\n",
            "| 에폭 4 |  반복 1301 / 1327 | 시간 1729[s] | 퍼플렉서티 111.48\n",
            "| 에폭 4 |  반복 1321 / 1327 | 시간 1735[s] | 퍼플렉서티 110.76\n"
          ],
          "name": "stdout"
        },
        {
          "output_type": "stream",
          "text": [
            "/usr/local/lib/python3.6/dist-packages/matplotlib/backends/backend_agg.py:214: RuntimeWarning: Glyph 48152 missing from current font.\n",
            "  font.set_text(s, 0.0, flags=flags)\n",
            "/usr/local/lib/python3.6/dist-packages/matplotlib/backends/backend_agg.py:214: RuntimeWarning: Glyph 48373 missing from current font.\n",
            "  font.set_text(s, 0.0, flags=flags)\n",
            "/usr/local/lib/python3.6/dist-packages/matplotlib/backends/backend_agg.py:214: RuntimeWarning: Glyph 54140 missing from current font.\n",
            "  font.set_text(s, 0.0, flags=flags)\n",
            "/usr/local/lib/python3.6/dist-packages/matplotlib/backends/backend_agg.py:214: RuntimeWarning: Glyph 54540 missing from current font.\n",
            "  font.set_text(s, 0.0, flags=flags)\n",
            "/usr/local/lib/python3.6/dist-packages/matplotlib/backends/backend_agg.py:214: RuntimeWarning: Glyph 47113 missing from current font.\n",
            "  font.set_text(s, 0.0, flags=flags)\n",
            "/usr/local/lib/python3.6/dist-packages/matplotlib/backends/backend_agg.py:214: RuntimeWarning: Glyph 49436 missing from current font.\n",
            "  font.set_text(s, 0.0, flags=flags)\n",
            "/usr/local/lib/python3.6/dist-packages/matplotlib/backends/backend_agg.py:214: RuntimeWarning: Glyph 54000 missing from current font.\n",
            "  font.set_text(s, 0.0, flags=flags)\n",
            "/usr/local/lib/python3.6/dist-packages/matplotlib/backends/backend_agg.py:183: RuntimeWarning: Glyph 48152 missing from current font.\n",
            "  font.set_text(s, 0, flags=flags)\n",
            "/usr/local/lib/python3.6/dist-packages/matplotlib/backends/backend_agg.py:183: RuntimeWarning: Glyph 48373 missing from current font.\n",
            "  font.set_text(s, 0, flags=flags)\n",
            "/usr/local/lib/python3.6/dist-packages/matplotlib/backends/backend_agg.py:183: RuntimeWarning: Glyph 54140 missing from current font.\n",
            "  font.set_text(s, 0, flags=flags)\n",
            "/usr/local/lib/python3.6/dist-packages/matplotlib/backends/backend_agg.py:183: RuntimeWarning: Glyph 54540 missing from current font.\n",
            "  font.set_text(s, 0, flags=flags)\n",
            "/usr/local/lib/python3.6/dist-packages/matplotlib/backends/backend_agg.py:183: RuntimeWarning: Glyph 47113 missing from current font.\n",
            "  font.set_text(s, 0, flags=flags)\n",
            "/usr/local/lib/python3.6/dist-packages/matplotlib/backends/backend_agg.py:183: RuntimeWarning: Glyph 49436 missing from current font.\n",
            "  font.set_text(s, 0, flags=flags)\n",
            "/usr/local/lib/python3.6/dist-packages/matplotlib/backends/backend_agg.py:183: RuntimeWarning: Glyph 54000 missing from current font.\n",
            "  font.set_text(s, 0, flags=flags)\n"
          ],
          "name": "stderr"
        },
        {
          "output_type": "display_data",
          "data": {
            "image/png": "[encoded data removed]",
            "text/plain": [
              "<Figure size 432x288 with 1 Axes>"
            ]
          },
          "metadata": {
            "tags": [],
            "needs_background": "light"
          }
        },
        {
          "output_type": "stream",
          "text": [
            "퍼플렉서티 평가 중 ...\n",
            "234 / 235\n",
            "테스트 퍼플렉서티:  134.95750192010092\n"
          ],
          "name": "stdout"
        }
      ]
    }
  ]
}