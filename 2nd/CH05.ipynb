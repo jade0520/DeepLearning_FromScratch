{
  "nbformat": 4,
  "nbformat_minor": 0,
  "metadata": {
    "colab": {
      "name": "2_CH05.ipynb",
      "provenance": [],
      "toc_visible": true,
      "authorship_tag": "ABX9TyNk5sOKr1Tb9EYLrDkUw3Tb"
    },
    "kernelspec": {
      "name": "python3",
      "display_name": "Python 3"
    }
  },
  "cells": [
    {
      "cell_type": "code",
      "metadata": {
        "id": "jPlbidpU4zXT",
        "colab_type": "code",
        "colab": {
          "base_uri": "https://localhost:8080/",
          "height": 105
        },
        "outputId": "71412f98-cc6a-4c46-9bce-6bd9b9ed173a"
      },
      "source": [
        "! git clone https://github.com/WegraLee/deep-learning-from-scratch-2.git"
      ],
      "execution_count": null,
      "outputs": [
        {
          "output_type": "stream",
          "text": [
            "Cloning into 'deep-learning-from-scratch-2'...\n",
            "remote: Enumerating objects: 580, done.\u001b[K\n",
            "remote: Total 580 (delta 0), reused 0 (delta 0), pack-reused 580\u001b[K\n",
            "Receiving objects: 100% (580/580), 29.81 MiB | 9.46 MiB/s, done.\n",
            "Resolving deltas: 100% (349/349), done.\n"
          ],
          "name": "stdout"
        }
      ]
    },
    {
      "cell_type": "code",
      "metadata": {
        "id": "6PZKssGB9XDc",
        "colab_type": "code",
        "colab": {}
      },
      "source": [
        "import os\n",
        "os.chdir('/content/deep-learning-from-scratch-2')"
      ],
      "execution_count": null,
      "outputs": []
    },
    {
      "cell_type": "markdown",
      "metadata": {
        "id": "VCtPhX8n9YAf",
        "colab_type": "text"
      },
      "source": [
        "# 5.4.1 RNNLM의 전체 그림"
      ]
    },
    {
      "cell_type": "code",
      "metadata": {
        "id": "zI0ReTSh9e2e",
        "colab_type": "code",
        "colab": {}
      },
      "source": [
        "import numpy as np\n",
        "from common.time_layers import *\n",
        "\n",
        "class SimpleRnnlm:\n",
        "    def __init__(self, vocab_size, wordvec_size, hidden_size):\n",
        "        V, D, H = vocab_size, wordvec_size, hidden_size\n",
        "        rn = np.random.randn\n",
        "\n",
        "        # 가중치 초기화\n",
        "        embed_W = (rn(V, D) / 100).astype('f')\n",
        "        rnn_Wx = (rn(D, H) / np.sqrt(D)).astype('f')\n",
        "        rnn_Wh = (rn(H, H) / np.sqrt(H)).astype('f')\n",
        "        rnn_b = np.zeros(H).astype('f')\n",
        "        affine_W = (rn(H, V) / np.sqrt(H)).astype('f')\n",
        "        affine_b = np.zeros(V).astype('f')\n",
        "\n",
        "        # 계층 생성\n",
        "        self.layers = [\n",
        "            TimeEmbedding(embed_W),\n",
        "            TimeRNN(rnn_Wx, rnn_Wh, rnn_b, stateful=True),\n",
        "            TimeAffine(affine_W, affine_b)\n",
        "        ]\n",
        "        self.loss_layer = TimeSoftmaxWithLoss()\n",
        "        self.rnn_layer = self.layers[1]\n",
        "\n",
        "        # 모든 가중치와 기울기를 리스트에 모은다.\n",
        "        self.params, self.grads = [], []\n",
        "        for layer in self.layers:\n",
        "            self.params += layer.params\n",
        "            self.grads += layer.grads\n",
        "\n",
        "    def forward(self, xs, ts):\n",
        "        for layer in self.layers:\n",
        "            xs = layer.forward(xs)\n",
        "        loss = self.loss_layer.forward(xs, ts)\n",
        "        return loss\n",
        "\n",
        "    def backward(self, dout=1):\n",
        "        dout = self.loss_layer.backward(dout)\n",
        "        for layer in reversed(self.layers):\n",
        "            dout = layer.backward(dout)\n",
        "        return dout\n",
        "\n",
        "    def reset_state(self):\n",
        "        self.rnn_layer.reset_state()"
      ],
      "execution_count": null,
      "outputs": []
    },
    {
      "cell_type": "markdown",
      "metadata": {
        "id": "RGExdJtmLD4d",
        "colab_type": "text"
      },
      "source": [
        "#5.5.3 RNNLM의 학습 코드"
      ]
    },
    {
      "cell_type": "code",
      "metadata": {
        "id": "U5emWj7ALHzK",
        "colab_type": "code",
        "colab": {
          "base_uri": "https://localhost:8080/",
          "height": 1000
        },
        "outputId": "05d00700-395e-44ca-bc43-1f8931509e7a"
      },
      "source": [
        "import matplotlib.pyplot as plt\n",
        "from common.optimizer import SGD\n",
        "from dataset import ptb\n",
        "\n",
        "# 하이퍼파라미터 설정\n",
        "batch_size = 10\n",
        "wordvec_size = 100\n",
        "hidden_size = 100 # RNN의 은닉 상태 벡터의 원소 수\n",
        "time_size = 5     # Truncated BPTT가 한 번에 펼치는 시간 크기\n",
        "lr = 0.1\n",
        "max_epoch = 100\n",
        "\n",
        "# 학습 데이터 읽기(전체 중 1000개만)\n",
        "corpus, word_to_id, id_to_word = ptb.load_data('train')\n",
        "corpus_size = 1000\n",
        "corpus = corpus[:corpus_size]\n",
        "vocab_size = int(max(corpus) + 1)\n",
        "\n",
        "xs = corpus[:-1]  # 입력\n",
        "ts = corpus[1:]   # 출력(정답 레이블)\n",
        "data_size = len(xs)\n",
        "print('말뭉치 크기: %d, 어휘 수: %d' % (corpus_size, vocab_size))\n",
        "\n",
        "# 학습 시 사용하는 변수\n",
        "max_iters = data_size // (batch_size * time_size) \n",
        "time_idx = 0\n",
        "total_loss = 0\n",
        "loss_count = 0\n",
        "ppl_list = []\n",
        "\n",
        "# 모델 생성\n",
        "model = SimpleRnnlm(vocab_size, wordvec_size, hidden_size)\n",
        "optimizer = SGD(lr)\n",
        "\n",
        "# 미니배치의 각 샘플의 읽기 시작 위치를 계산\n",
        "jump = (corpus_size - 1) // batch_size\n",
        "offsets = [i * jump for i in range(batch_size)]\n",
        "\n",
        "for epoch in range(max_epoch):\n",
        "    for iter in range(max_iters):\n",
        "        # 미니배치 취득\n",
        "        batch_x = np.empty((batch_size, time_size), dtype='i')\n",
        "        batch_t = np.empty((batch_size, time_size), dtype='i')\n",
        "        for t in range(time_size):\n",
        "            for i, offset in enumerate(offsets):\n",
        "                batch_x[i, t] = xs[(offset + time_idx) % data_size]\n",
        "                batch_t[i, t] = ts[(offset + time_idx) % data_size]\n",
        "            time_idx += 1\n",
        "\n",
        "        # 기울기를 구하여 매개변수 갱신\n",
        "        loss = model.forward(batch_x, batch_t)\n",
        "        model.backward()\n",
        "        optimizer.update(model.params, model.grads)\n",
        "        total_loss += loss\n",
        "        loss_count += 1\n",
        "\n",
        "    # 에폭마다 퍼플렉서티 평가\n",
        "    ppl = np.exp(total_loss / loss_count)\n",
        "    print('| 에폭 %d | 퍼플렉서티 %.2f'\n",
        "          % (epoch+1, ppl))\n",
        "    ppl_list.append(float(ppl))\n",
        "    total_loss, loss_count = 0, 0\n",
        "\n",
        "# 그래프 그리기\n",
        "x = np.arange(len(ppl_list))\n",
        "plt.plot(x, ppl_list, label='train')\n",
        "plt.xlabel('epochs')\n",
        "plt.ylabel('perplexity')\n",
        "plt.show()\n"
      ],
      "execution_count": null,
      "outputs": [
        {
          "output_type": "stream",
          "text": [
            "Downloading ptb.train.txt ... \n",
            "Done\n",
            "말뭉치 크기: 1000, 어휘 수: 418\n",
            "| 에폭 1 | 퍼플렉서티 360.96\n",
            "| 에폭 2 | 퍼플렉서티 241.56\n",
            "| 에폭 3 | 퍼플렉서티 222.07\n",
            "| 에폭 4 | 퍼플렉서티 215.38\n",
            "| 에폭 5 | 퍼플렉서티 204.94\n",
            "| 에폭 6 | 퍼플렉서티 202.88\n",
            "| 에폭 7 | 퍼플렉서티 198.89\n",
            "| 에폭 8 | 퍼플렉서티 196.52\n",
            "| 에폭 9 | 퍼플렉서티 191.05\n",
            "| 에폭 10 | 퍼플렉서티 191.57\n",
            "| 에폭 11 | 퍼플렉서티 187.84\n",
            "| 에폭 12 | 퍼플렉서티 190.78\n",
            "| 에폭 13 | 퍼플렉서티 188.47\n",
            "| 에폭 14 | 퍼플렉서티 188.74\n",
            "| 에폭 15 | 퍼플렉서티 188.12\n",
            "| 에폭 16 | 퍼플렉서티 183.56\n",
            "| 에폭 17 | 퍼플렉서티 181.71\n",
            "| 에폭 18 | 퍼플렉서티 177.43\n",
            "| 에폭 19 | 퍼플렉서티 179.57\n",
            "| 에폭 20 | 퍼플렉서티 179.52\n",
            "| 에폭 21 | 퍼플렉서티 179.64\n",
            "| 에폭 22 | 퍼플렉서티 173.03\n",
            "| 에폭 23 | 퍼플렉서티 169.32\n",
            "| 에폭 24 | 퍼플렉서티 171.87\n",
            "| 에폭 25 | 퍼플렉서티 167.82\n",
            "| 에폭 26 | 퍼플렉서티 166.82\n",
            "| 에폭 27 | 퍼플렉서티 161.04\n",
            "| 에폭 28 | 퍼플렉서티 159.71\n",
            "| 에폭 29 | 퍼플렉서티 157.87\n",
            "| 에폭 30 | 퍼플렉서티 150.40\n",
            "| 에폭 31 | 퍼플렉서티 152.73\n",
            "| 에폭 32 | 퍼플렉서티 148.04\n",
            "| 에폭 33 | 퍼플렉서티 145.61\n",
            "| 에폭 34 | 퍼플렉서티 141.72\n",
            "| 에폭 35 | 퍼플렉서티 139.89\n",
            "| 에폭 36 | 퍼플렉서티 134.62\n",
            "| 에폭 37 | 퍼플렉서티 131.18\n",
            "| 에폭 38 | 퍼플렉서티 127.51\n",
            "| 에폭 39 | 퍼플렉서티 122.76\n",
            "| 에폭 40 | 퍼플렉서티 118.49\n",
            "| 에폭 41 | 퍼플렉서티 118.07\n",
            "| 에폭 42 | 퍼플렉서티 112.18\n",
            "| 에폭 43 | 퍼플렉서티 107.43\n",
            "| 에폭 44 | 퍼플렉서티 102.97\n",
            "| 에폭 45 | 퍼플렉서티 100.28\n",
            "| 에폭 46 | 퍼플렉서티 97.62\n",
            "| 에폭 47 | 퍼플렉서티 90.95\n",
            "| 에폭 48 | 퍼플렉서티 87.23\n",
            "| 에폭 49 | 퍼플렉서티 85.11\n",
            "| 에폭 50 | 퍼플렉서티 80.31\n",
            "| 에폭 51 | 퍼플렉서티 77.26\n",
            "| 에폭 52 | 퍼플렉서티 74.76\n",
            "| 에폭 53 | 퍼플렉서티 71.25\n",
            "| 에폭 54 | 퍼플렉서티 67.47\n",
            "| 에폭 55 | 퍼플렉서티 64.95\n",
            "| 에폭 56 | 퍼플렉서티 62.47\n",
            "| 에폭 57 | 퍼플렉서티 58.84\n",
            "| 에폭 58 | 퍼플렉서티 55.75\n",
            "| 에폭 59 | 퍼플렉서티 51.96\n",
            "| 에폭 60 | 퍼플렉서티 48.42\n",
            "| 에폭 61 | 퍼플렉서티 47.15\n",
            "| 에폭 62 | 퍼플렉서티 44.85\n",
            "| 에폭 63 | 퍼플렉서티 42.18\n",
            "| 에폭 64 | 퍼플렉서티 39.30\n",
            "| 에폭 65 | 퍼플렉서티 38.38\n",
            "| 에폭 66 | 퍼플렉서티 36.43\n",
            "| 에폭 67 | 퍼플렉서티 33.77\n",
            "| 에폭 68 | 퍼플렉서티 31.91\n",
            "| 에폭 69 | 퍼플렉서티 29.79\n",
            "| 에폭 70 | 퍼플렉서티 29.08\n",
            "| 에폭 71 | 퍼플렉서티 27.06\n",
            "| 에폭 72 | 퍼플렉서티 25.96\n",
            "| 에폭 73 | 퍼플렉서티 23.83\n",
            "| 에폭 74 | 퍼플렉서티 23.15\n",
            "| 에폭 75 | 퍼플렉서티 22.01\n",
            "| 에폭 76 | 퍼플렉서티 20.49\n",
            "| 에폭 77 | 퍼플렉서티 19.31\n",
            "| 에폭 78 | 퍼플렉서티 18.83\n",
            "| 에폭 79 | 퍼플렉서티 17.59\n",
            "| 에폭 80 | 퍼플렉서티 16.03\n",
            "| 에폭 81 | 퍼플렉서티 15.25\n",
            "| 에폭 82 | 퍼플렉서티 14.97\n",
            "| 에폭 83 | 퍼플렉서티 13.76\n",
            "| 에폭 84 | 퍼플렉서티 12.61\n",
            "| 에폭 85 | 퍼플렉서티 12.36\n",
            "| 에폭 86 | 퍼플렉서티 11.66\n",
            "| 에폭 87 | 퍼플렉서티 11.03\n",
            "| 에폭 88 | 퍼플렉서티 10.51\n",
            "| 에폭 89 | 퍼플렉서티 9.96\n",
            "| 에폭 90 | 퍼플렉서티 9.38\n",
            "| 에폭 91 | 퍼플렉서티 8.89\n",
            "| 에폭 92 | 퍼플렉서티 8.73\n",
            "| 에폭 93 | 퍼플렉서티 8.44\n",
            "| 에폭 94 | 퍼플렉서티 8.10\n",
            "| 에폭 95 | 퍼플렉서티 7.29\n",
            "| 에폭 96 | 퍼플렉서티 6.79\n",
            "| 에폭 97 | 퍼플렉서티 6.57\n",
            "| 에폭 98 | 퍼플렉서티 6.25\n",
            "| 에폭 99 | 퍼플렉서티 6.10\n",
            "| 에폭 100 | 퍼플렉서티 5.79\n"
          ],
          "name": "stdout"
        },
        {
          "output_type": "display_data",
          "data": {
            "image/png": "[encoded data removed]",
            "text/plain": [
              "<Figure size 432x288 with 1 Axes>"
            ]
          },
          "metadata": {
            "tags": [],
            "needs_background": "light"
          }
        }
      ]
    }
  ]
}