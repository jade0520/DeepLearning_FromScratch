{
  "nbformat": 4,
  "nbformat_minor": 0,
  "metadata": {
    "colab": {
      "name": "2_CH02_Corpus.ipynb",
      "provenance": [],
      "collapsed_sections": [],
      "authorship_tag": "ABX9TyN0qxFHJMKQwOAysTJdNMYg",
      "include_colab_link": true
    },
    "kernelspec": {
      "name": "python3",
      "display_name": "Python 3"
    }
  },
  "cells": [
    {
      "cell_type": "markdown",
      "metadata": {
        "id": "view-in-github",
        "colab_type": "text"
      },
      "source": [
        "<a href=\"https://colab.research.google.com/github/jade0520/DeepLearning_FromScratch/blob/master/2nd/2_CH02_Corpus.ipynb\" target=\"_parent\"><img src=\"https://colab.research.google.com/assets/colab-badge.svg\" alt=\"Open In Colab\"/></a>"
      ]
    },
    {
      "cell_type": "markdown",
      "metadata": {
        "id": "eEoiBRCVhrkG",
        "colab_type": "text"
      },
      "source": [
        "# 말뭉치 전처리"
      ]
    },
    {
      "cell_type": "code",
      "metadata": {
        "id": "_PHVyBYBewlg",
        "colab_type": "code",
        "colab": {
          "base_uri": "https://localhost:8080/",
          "height": 34
        },
        "outputId": "da985a17-f23c-4584-8405-7c17aa3a2e87"
      },
      "source": [
        "text = 'You say goodbye and I say hello.'\n",
        "\n",
        "text = text.lower()\n",
        "\n",
        "text = text.replace('.',' .') # 마침표 분리 위함\n",
        "\n",
        "print(text)"
      ],
      "execution_count": null,
      "outputs": [
        {
          "output_type": "stream",
          "text": [
            "you say goodbye and i say hello .\n"
          ],
          "name": "stdout"
        }
      ]
    },
    {
      "cell_type": "code",
      "metadata": {
        "id": "xjaJL3ndfQrB",
        "colab_type": "code",
        "colab": {
          "base_uri": "https://localhost:8080/",
          "height": 34
        },
        "outputId": "7a4070f0-48dc-4170-ede1-8d246d47ce61"
      },
      "source": [
        "words = text.split(' ') #공백을 기준으로 분할\n",
        "\n",
        "print(words)"
      ],
      "execution_count": null,
      "outputs": [
        {
          "output_type": "stream",
          "text": [
            "['you', 'say', 'goodbye', 'and', 'i', 'say', 'hello', '.']\n"
          ],
          "name": "stdout"
        }
      ]
    },
    {
      "cell_type": "markdown",
      "metadata": {
        "id": "uqu2McPzfnaz",
        "colab_type": "text"
      },
      "source": [
        "ID 부여"
      ]
    },
    {
      "cell_type": "code",
      "metadata": {
        "id": "tgiO5kzwfbO9",
        "colab_type": "code",
        "colab": {
          "base_uri": "https://localhost:8080/",
          "height": 52
        },
        "outputId": "63298768-b980-47e7-fe3f-db604633887b"
      },
      "source": [
        "#딕셔너리 선언\n",
        "word_to_id = {}\n",
        "id_to_word = {}\n",
        "\n",
        "for word in words:\n",
        "    if word not in word_to_id:      # word_to_id 에 포함 되어있지 않을 경우 \n",
        "        new_id = len(word_to_id)    # word_to_id의 길이를 id로 한다. (즉 들어오는 순서대로 id를 가진다.)\n",
        "        word_to_id[word] = new_id   # word_to_id에 word 를 key로 하여 new_id를 value로 연결\n",
        "        id_to_word[new_id] = word   # id_to_word에 new_id를 key로 하여 word로 연결\n",
        "\n",
        "print(word_to_id)\n",
        "print(id_to_word)"
      ],
      "execution_count": null,
      "outputs": [
        {
          "output_type": "stream",
          "text": [
            "{'you': 0, 'say': 1, 'goodbye': 2, 'and': 3, 'i': 4, 'hello': 5, '.': 6}\n",
            "{0: 'you', 1: 'say', 2: 'goodbye', 3: 'and', 4: 'i', 5: 'hello', 6: '.'}\n"
          ],
          "name": "stdout"
        }
      ]
    },
    {
      "cell_type": "code",
      "metadata": {
        "id": "ZKXhGJxRg3bq",
        "colab_type": "code",
        "colab": {
          "base_uri": "https://localhost:8080/",
          "height": 52
        },
        "outputId": "8847dc07-60e0-49dc-a222-79cecc3d48e0"
      },
      "source": [
        "print(word_to_id['hello'])\n",
        "print(id_to_word[1])"
      ],
      "execution_count": null,
      "outputs": [
        {
          "output_type": "stream",
          "text": [
            "5\n",
            "say\n"
          ],
          "name": "stdout"
        }
      ]
    },
    {
      "cell_type": "code",
      "metadata": {
        "id": "9lKrrRzMhEBd",
        "colab_type": "code",
        "colab": {
          "base_uri": "https://localhost:8080/",
          "height": 34
        },
        "outputId": "4337976c-d0c5-4c84-d347-c40c8a3d3c13"
      },
      "source": [
        "import numpy as np\n",
        "\n",
        "corpus_ = [word_to_id[w] for w in words]    #words안의 원소를 뽑아 word_to_id의 key로 삼고 value를 corpus에 저장한다.\n",
        "corpus_ = np.array(corpus_)                  #저장한 corpus를 배열로 변환\n",
        "print(corpus_)"
      ],
      "execution_count": null,
      "outputs": [
        {
          "output_type": "stream",
          "text": [
            "[0 1 2 3 4 1 5 6]\n"
          ],
          "name": "stdout"
        }
      ]
    },
    {
      "cell_type": "markdown",
      "metadata": {
        "id": "-_8FQ7lV4rw4",
        "colab_type": "text"
      },
      "source": [
        "함수로 정의"
      ]
    },
    {
      "cell_type": "code",
      "metadata": {
        "id": "UDOdnHXi4tbI",
        "colab_type": "code",
        "colab": {}
      },
      "source": [
        "def preprocess(text):\n",
        "    text = text.lower()\n",
        "    text = text.replace('.',' .')\n",
        "\n",
        "    words = text.split(' ') \n",
        "\n",
        "    word_to_id = {}\n",
        "    id_to_word = {}\n",
        "\n",
        "    for word in words:\n",
        "      if word not in word_to_id:      \n",
        "          new_id = len(word_to_id)    \n",
        "          word_to_id[word] = new_id   \n",
        "          id_to_word[new_id] = word \n",
        "\n",
        "    corpus = np.array([word_to_id[w] for w in words])\n",
        "\n",
        "    return corpus, word_to_id, id_to_word"
      ],
      "execution_count": null,
      "outputs": []
    },
    {
      "cell_type": "markdown",
      "metadata": {
        "id": "FyHNcWzpjhzN",
        "colab_type": "text"
      },
      "source": [
        "# 말뭉치로 부터 동시발생 행렬을 만드는 함수 \n",
        "\n",
        " 단어를 벡터로 표현한다."
      ]
    },
    {
      "cell_type": "code",
      "metadata": {
        "id": "bxCkiZDKjl3b",
        "colab_type": "code",
        "colab": {}
      },
      "source": [
        "def create_co_matrix(corpus, vcab_size, window_size = 1):\n",
        "  corpus_size = len(corpus)\n",
        "  co_matrix = np.zeros((vocab_size,vocab_size),dtype = np.int32)\n",
        "\n",
        "  # corpus size = n\n",
        "  for idx, word_id in enumerate(corpus):\n",
        "    for i in range(1,window_size+1):\n",
        "      #검사할 주변 맥락의 인데스 설정\n",
        "      left_idx = idx - i\n",
        "      right_idx = idx + i\n",
        "\n",
        "      #문장을 벗어나지 않은 경우, 맥락에 해당하는 단어의 id를 받고 매트릭스에 word_id에 해당하는 행에 1을 추가한다. \n",
        "      # 0은 포함 가능\n",
        "      if left_idx >= 0 :\n",
        "        left_word_id = corpus[left_idx]\n",
        "        co_matrix[word_id,left_word_id] += 1\n",
        "\n",
        "      # 사이즈는 넘어가면 안된다.: 인덱스 시작이 0이므로\n",
        "      if right_idx < corpus_size:\n",
        "        right_word_id = corpus[right_idx]\n",
        "        co_matrix[word_id,right_word_id] += 1\n",
        "\n",
        "  return co_matrix"
      ],
      "execution_count": null,
      "outputs": []
    },
    {
      "cell_type": "code",
      "metadata": {
        "id": "TRktqGc5l4Rx",
        "colab_type": "code",
        "colab": {
          "base_uri": "https://localhost:8080/",
          "height": 140
        },
        "outputId": "9dd4d1c2-c9b8-4212-efc7-4cf8a731ac4c"
      },
      "source": [
        "vocab_size = len(word_to_id)\n",
        "matrix = create_co_matrix(corpus_,vocab_size , 1)\n",
        "print(matrix)"
      ],
      "execution_count": null,
      "outputs": [
        {
          "output_type": "stream",
          "text": [
            "[[0 1 0 0 0 0 0]\n",
            " [1 0 1 0 1 1 0]\n",
            " [0 1 0 1 0 0 0]\n",
            " [0 0 1 0 1 0 0]\n",
            " [0 1 0 1 0 0 0]\n",
            " [0 1 0 0 0 0 1]\n",
            " [0 0 0 0 0 1 0]]\n"
          ],
          "name": "stdout"
        }
      ]
    },
    {
      "cell_type": "markdown",
      "metadata": {
        "id": "pew_kdEto4JH",
        "colab_type": "text"
      },
      "source": [
        "벡터간 유사도"
      ]
    },
    {
      "cell_type": "code",
      "metadata": {
        "id": "vTuNJlbMo6EJ",
        "colab_type": "code",
        "colab": {}
      },
      "source": [
        ""
      ],
      "execution_count": null,
      "outputs": []
    },
    {
      "cell_type": "markdown",
      "metadata": {
        "id": "ORCBoLf_09yo",
        "colab_type": "text"
      },
      "source": [
        "# 벡터간 유사도"
      ]
    },
    {
      "cell_type": "markdown",
      "metadata": {
        "id": "1Pr9GAwy2DjX",
        "colab_type": "text"
      },
      "source": [
        "코사인 유사도를 이용한다. \n",
        "\n",
        "두 벡터의 내적에 L2를 나누면 두 벡터 사이각에 대한 코사인 값이 됨을 이용\n"
      ]
    },
    {
      "cell_type": "code",
      "metadata": {
        "id": "uLK5G0HI1A7X",
        "colab_type": "code",
        "colab": {}
      },
      "source": [
        "def cos_similarity(x,y,eps = 1e-8): #0으로 나누기 방지용 작은 값\n",
        "    nx = x / np.sqrt(np.sum(x**2) + eps)  #x의 정규화\n",
        "    ny = y / np.sqrt(np.sum(y**2) + eps)  #y의 정규화\n",
        "\n",
        "    #앞선 변수의 분모들은 상수가 되므로, 먼저 나눈 뒤 내적해도 괜찮다.\n",
        "    return np.dot(nx,ny)"
      ],
      "execution_count": null,
      "outputs": []
    },
    {
      "cell_type": "markdown",
      "metadata": {
        "id": "10NmhX-f4Raq",
        "colab_type": "text"
      },
      "source": [
        "벡터간 유사도 구하기"
      ]
    },
    {
      "cell_type": "code",
      "metadata": {
        "id": "bb0lFUci4XHA",
        "colab_type": "code",
        "colab": {
          "base_uri": "https://localhost:8080/",
          "height": 34
        },
        "outputId": "72bb1aad-13cf-4370-a578-a0771f4f2b18"
      },
      "source": [
        "import sys\n",
        "sys.path.append('..')\n",
        "text = 'You say goodbye and I say hello'\n",
        "corpus, word_to_id, id_to_word = preprocess(text)\n",
        "vocab_size = len(word_to_id)\n",
        "C = create_co_matrix(corpus,vocab_size)\n",
        "\n",
        "c0 = C[word_to_id['you']] #'you'의 벡터\n",
        "c1 = C[word_to_id['i']]   #'I'의 벡터\n",
        "\n",
        "print(cos_similarity(c0,c1))\n"
      ],
      "execution_count": null,
      "outputs": [
        {
          "output_type": "stream",
          "text": [
            "0.7071067758832467\n"
          ],
          "name": "stdout"
        }
      ]
    },
    {
      "cell_type": "markdown",
      "metadata": {
        "id": "_OWdHKTR7n2J",
        "colab_type": "text"
      },
      "source": [
        "유사 단어의 랭킹 표시"
      ]
    },
    {
      "cell_type": "code",
      "metadata": {
        "id": "2YsXGaZg7po2",
        "colab_type": "code",
        "colab": {}
      },
      "source": [
        "def most_similar(query, word_to_id, id_to_word, word_matrix, top = 5):\n",
        "                # query :  데이터베이스에 정보를 요청하는 것\n",
        "    \n",
        "    ### 검색어 꺼내기\n",
        "    # 검색어가 없을 경우. \n",
        "    if query not in word_to_id:\n",
        "        print(f'{query}(을)를 찾을 수 없습니다.')\n",
        "        return\n",
        "    # 검색어가 있을 경우,\n",
        "    print('\\n[query]'+query)\n",
        "    # 쿼리에 해당하는 단어의 ID를 꺼내어 벡터를 구한다.\n",
        "    query_id = word_to_id[query]\n",
        "    query_vec = word_matrix[query_id]\n",
        "\n",
        "    ### 코사인 유사도 계산 : 쿼리에 해당하는 단어와 다른 모든 단어들 사이의 코사인 유사도를 계산.\n",
        "    vocab_size = len(id_to_word)\n",
        "    similarity = np.zeros(vocab_size)\n",
        "    for i in range(vocab_size):\n",
        "      similarity[i] = cos_similarity(word_matrix[i], query_vec)\n",
        "\n",
        "    ### 코사인 유사도를 기준으로 내림차순으로 출력]\n",
        "    # count 왜 있는지 확인\n",
        "    count = 0\n",
        "\n",
        "    # argsort()는 오름차순을 위한 함수이므로, 부호를 바꾸어 내림차순으로 출력하도록 한다.\n",
        "    for i in (-1 * similarity).argsort() :\n",
        "      # 쿼리에 해당하는 단어의 경우 출력 하지 않고 넘어간다.\n",
        "      if id_to_word[i] == query:\n",
        "          continue\n",
        "      print(f'{id_to_word[i]} : {similarity[i]}')\n",
        "\n",
        "      count +=1\n",
        "      #출력 횟수가 top 이 되면 출력을 끝낸다.\n",
        "      if count >= top:\n",
        "        return"
      ],
      "execution_count": null,
      "outputs": []
    },
    {
      "cell_type": "code",
      "metadata": {
        "id": "KafmLrFO_XfE",
        "colab_type": "code",
        "colab": {
          "base_uri": "https://localhost:8080/",
          "height": 140
        },
        "outputId": "b1a9b26c-539d-4c41-9e3c-bf33a972f944"
      },
      "source": [
        "text = 'You say goodbye and I say hello'\n",
        "corpus, word_to_id, id_to_word = preprocess(text)\n",
        "vocab_size = len(word_to_id)\n",
        "C = create_co_matrix(corpus,vocab_size)\n",
        "\n",
        "most_similar('you',word_to_id, id_to_word, C, top = 5)"
      ],
      "execution_count": null,
      "outputs": [
        {
          "output_type": "stream",
          "text": [
            "\n",
            "[query]you\n",
            "hello : 0.9999999900000001\n",
            "goodbye : 0.7071067758832467\n",
            "i : 0.7071067758832467\n",
            "say : 0.0\n",
            "and : 0.0\n"
          ],
          "name": "stdout"
        }
      ]
    },
    {
      "cell_type": "markdown",
      "metadata": {
        "id": "lfHFfZwNGNQG",
        "colab_type": "text"
      },
      "source": [
        "# 통계기반 기법의 개선\n",
        "\n",
        "> 상호 정보량\n"
      ]
    },
    {
      "cell_type": "markdown",
      "metadata": {
        "id": "9_wkme4XGUR6",
        "colab_type": "text"
      },
      "source": [
        "PMI "
      ]
    },
    {
      "cell_type": "code",
      "metadata": {
        "id": "pPNVSofpG_ZS",
        "colab_type": "code",
        "colab": {}
      },
      "source": [
        "def ppmi(C, verbose=False, eps = 1e-8):\n",
        "            #:진행상황 출력 여부\n",
        "\n",
        "    \n",
        "    M = np.zeros_like(C, dtype=np.float32)  # PPMI의 결과를 출력할 행렬\n",
        "    N = np.sum(C)                           # 전체 단어 개수 N : 그런데 동시 발생 행렬 C는 윈도우 크기에 따라 달라지는 것이 아닌가?? . \n",
        "    S = np.sum(C, axis=0)                   # 각 단어별 발생 횟수\n",
        "    total = C.shape[0] * C.shape[1]         # \n",
        "    cnt = 0\n",
        "\n",
        "    for i in range(C.shape[0]):\n",
        "        for j in range(C.shape[1]):\n",
        "            pmi = np.log2(C[i, j] * N / (S[j]*S[i]) ) # 동시 발생 횟수가 0인 경우 -inf가 된다.\n",
        "            M[i, j] = pmi\n",
        "\n",
        "            if verbose:\n",
        "                cnt += 1\n",
        "                if cnt % (total//100) == 0:\n",
        "                    print('%.1f%% 완료' % (100*cnt/total))\n",
        "    return M"
      ],
      "execution_count": null,
      "outputs": []
    },
    {
      "cell_type": "markdown",
      "metadata": {
        "id": "GrFA1w98JeJH",
        "colab_type": "text"
      },
      "source": [
        "Test : "
      ]
    },
    {
      "cell_type": "code",
      "metadata": {
        "id": "LKl8HSIeJkbA",
        "colab_type": "code",
        "colab": {
          "base_uri": "https://localhost:8080/",
          "height": 386
        },
        "outputId": "e7cea175-7146-4bed-f135-d26a1eb65e38"
      },
      "source": [
        "import numpy as np\n",
        "\n",
        "text = 'You say goodbye and I say  hello.'\n",
        "corpus, word_to_id, id_to_word = preprocess(text)\n",
        "vocab_size = len(word_to_id)\n",
        "C = create_co_matrix(corpus, vocab_size)\n",
        "W = ppmi(C)\n",
        "\n",
        "np.set_printoptions(precision=3)  # 유효 자릿수를 세 자리로 표시\n",
        "print('동시발생 행렬')\n",
        "print(C)\n",
        "print('-'*50)\n",
        "print('PMI')\n",
        "print(W)"
      ],
      "execution_count": null,
      "outputs": [
        {
          "output_type": "stream",
          "text": [
            "동시발생 행렬\n",
            "[[0 1 0 0 0 0 0 0]\n",
            " [1 0 1 0 1 1 0 0]\n",
            " [0 1 0 1 0 0 0 0]\n",
            " [0 0 1 0 1 0 0 0]\n",
            " [0 1 0 1 0 0 0 0]\n",
            " [0 1 0 0 0 0 1 0]\n",
            " [0 0 0 0 0 1 0 1]\n",
            " [0 0 0 0 0 0 1 0]]\n",
            "--------------------------------------------------\n",
            "PMI\n",
            "[[-inf   2. -inf -inf -inf -inf -inf -inf]\n",
            " [  2. -inf   1. -inf   1.   1. -inf -inf]\n",
            " [-inf   1. -inf   2. -inf -inf -inf -inf]\n",
            " [-inf -inf   2. -inf   2. -inf -inf -inf]\n",
            " [-inf   1. -inf   2. -inf -inf -inf -inf]\n",
            " [-inf   1. -inf -inf -inf -inf   2. -inf]\n",
            " [-inf -inf -inf -inf -inf   2. -inf   3.]\n",
            " [-inf -inf -inf -inf -inf -inf   3. -inf]]\n"
          ],
          "name": "stdout"
        },
        {
          "output_type": "stream",
          "text": [
            "/usr/local/lib/python3.6/dist-packages/ipykernel_launcher.py:13: RuntimeWarning: divide by zero encountered in log2\n",
            "  del sys.path[0]\n"
          ],
          "name": "stderr"
        }
      ]
    },
    {
      "cell_type": "markdown",
      "metadata": {
        "id": "fXwh3QghJ8ZP",
        "colab_type": "text"
      },
      "source": [
        "PPMI 양의 상호 정보량\n",
        "\n",
        "\n",
        ": 동시발생 횟수가 0이면 -inf 로 가는 것 방지 및 음수의 경우 0으로 대체"
      ]
    },
    {
      "cell_type": "code",
      "metadata": {
        "id": "BCVa4p5VGa34",
        "colab_type": "code",
        "colab": {}
      },
      "source": [
        "def ppmi(C, verbose=False, eps = 1e-8):\n",
        "\n",
        "    M = np.zeros_like(C, dtype=np.float32)\n",
        "    N = np.sum(C)\n",
        "    S = np.sum(C, axis=0)\n",
        "    total = C.shape[0] * C.shape[1]\n",
        "    cnt = 0\n",
        "\n",
        "    for i in range(C.shape[0]):\n",
        "        for j in range(C.shape[1]):\n",
        "            pmi = np.log2(C[i, j] * N / (S[j]*S[i]) + eps) ##작은 수 eps가 있도록 한다\n",
        "            M[i, j] = max(0, pmi)     #양수\n",
        "\n",
        "            if verbose:\n",
        "                cnt += 1\n",
        "                if cnt % (total//100) == 0:\n",
        "                    print('%.1f%% 완료' % (100*cnt/total))\n",
        "    return M"
      ],
      "execution_count": null,
      "outputs": []
    },
    {
      "cell_type": "code",
      "metadata": {
        "id": "83_Z6jR0LsaP",
        "colab_type": "code",
        "colab": {
          "base_uri": "https://localhost:8080/",
          "height": 351
        },
        "outputId": "25099bdb-5927-46f5-890e-45e5bcbec9f4"
      },
      "source": [
        "text = 'You say goodbye and I say  hello.'\n",
        "corpus, word_to_id, id_to_word = preprocess(text)\n",
        "vocab_size = len(word_to_id)\n",
        "C = create_co_matrix(corpus, vocab_size)\n",
        "W = ppmi(C)\n",
        "\n",
        "np.set_printoptions(precision=3)  # 유효 자릿수를 세 자리로 표시\n",
        "print('동시발생 행렬')\n",
        "print(C)\n",
        "print('-'*50)\n",
        "print('PPMI')\n",
        "print(W)"
      ],
      "execution_count": null,
      "outputs": [
        {
          "output_type": "stream",
          "text": [
            "동시발생 행렬\n",
            "[[0 1 0 0 0 0 0 0]\n",
            " [1 0 1 0 1 1 0 0]\n",
            " [0 1 0 1 0 0 0 0]\n",
            " [0 0 1 0 1 0 0 0]\n",
            " [0 1 0 1 0 0 0 0]\n",
            " [0 1 0 0 0 0 1 0]\n",
            " [0 0 0 0 0 1 0 1]\n",
            " [0 0 0 0 0 0 1 0]]\n",
            "--------------------------------------------------\n",
            "PPMI\n",
            "[[0. 2. 0. 0. 0. 0. 0. 0.]\n",
            " [2. 0. 1. 0. 1. 1. 0. 0.]\n",
            " [0. 1. 0. 2. 0. 0. 0. 0.]\n",
            " [0. 0. 2. 0. 2. 0. 0. 0.]\n",
            " [0. 1. 0. 2. 0. 0. 0. 0.]\n",
            " [0. 1. 0. 0. 0. 0. 2. 0.]\n",
            " [0. 0. 0. 0. 0. 2. 0. 3.]\n",
            " [0. 0. 0. 0. 0. 0. 3. 0.]]\n"
          ],
          "name": "stdout"
        }
      ]
    },
    {
      "cell_type": "markdown",
      "metadata": {
        "id": "y7Tk_FozL4iG",
        "colab_type": "text"
      },
      "source": [
        "+) 윈도우가 1이 아닐때의 PPMI 행렬\n"
      ]
    },
    {
      "cell_type": "code",
      "metadata": {
        "id": "14FsyUfWL-wW",
        "colab_type": "code",
        "colab": {
          "base_uri": "https://localhost:8080/",
          "height": 351
        },
        "outputId": "de8dfe3b-d315-4ef8-8769-066488cda9ce"
      },
      "source": [
        "text = 'You say goodbye and I say  hello.'\n",
        "corpus, word_to_id, id_to_word = preprocess(text)\n",
        "vocab_size = len(word_to_id)\n",
        "\n",
        "################# 윈도우 사이즈를 다르게 하면 값이 변하는 코드\n",
        "C = create_co_matrix(corpus, vocab_size, window_size= 3)\n",
        "W = ppmi(C)\n",
        "\n",
        "np.set_printoptions(precision=3)  # 유효 자릿수를 세 자리로 표시\n",
        "print('동시발생 행렬')\n",
        "print(C)\n",
        "print('-'*50)\n",
        "print('PPMI')\n",
        "print(W)"
      ],
      "execution_count": null,
      "outputs": [
        {
          "output_type": "stream",
          "text": [
            "동시발생 행렬\n",
            "[[0 1 1 1 0 0 0 0]\n",
            " [1 0 2 2 2 1 1 1]\n",
            " [1 2 0 1 1 0 0 0]\n",
            " [1 2 1 0 1 1 0 0]\n",
            " [0 2 1 1 0 1 1 0]\n",
            " [0 1 0 1 1 0 1 1]\n",
            " [0 1 0 0 1 1 0 1]\n",
            " [0 1 0 0 0 1 1 0]]\n",
            "--------------------------------------------------\n",
            "PPMI\n",
            "[[0.    0.485 1.485 1.222 0.    0.    0.    0.   ]\n",
            " [0.485 0.    0.748 0.485 0.485 0.    0.07  0.485]\n",
            " [1.485 0.748 0.    0.485 0.485 0.    0.    0.   ]\n",
            " [1.222 0.485 0.485 0.    0.222 0.485 0.    0.   ]\n",
            " [0.    0.485 0.485 0.222 0.    0.485 0.807 0.   ]\n",
            " [0.    0.    0.    0.485 0.485 0.    1.07  1.485]\n",
            " [0.    0.07  0.    0.    0.807 1.07  0.    1.807]\n",
            " [0.    0.485 0.    0.    0.    1.485 1.807 0.   ]]\n"
          ],
          "name": "stdout"
        }
      ]
    },
    {
      "cell_type": "markdown",
      "metadata": {
        "id": "0jh17B8zja9E",
        "colab_type": "text"
      },
      "source": [
        "**??) ** 전체 말뭉치 개수를 나타내는 N이 동시 발생행렬의 모든 요소의 합인 것이 이해가 가지 않는다.\n",
        "\n",
        "```\n",
        "   N = np.sum(C)\n",
        "   pmi = np.log2(C[i, j] * N / (S[j]*S[i]) + eps) \n",
        "```\n",
        "\n"
      ]
    },
    {
      "cell_type": "markdown",
      "metadata": {
        "id": "We2Phtomj37b",
        "colab_type": "text"
      },
      "source": [
        "test"
      ]
    },
    {
      "cell_type": "code",
      "metadata": {
        "id": "zVJNiZ8bj4-V",
        "colab_type": "code",
        "colab": {}
      },
      "source": [
        "def ppmi_N (C, verbose=False, eps = 1e-8):\n",
        "\n",
        "    M = np.zeros_like(C, dtype=np.float32)\n",
        "    N = np.sum(C)\n",
        "    S = np.sum(C, axis=0)\n",
        "    total = C.shape[0] * C.shape[1]\n",
        "    cnt = 0\n",
        "\n",
        "    for i in range(C.shape[0]):\n",
        "        for j in range(C.shape[1]):\n",
        "            pmi = np.log2(C[i, j] * N / (S[j]*S[i]) + eps) ##작은 수 eps가 있도록 한다\n",
        "            print(f'{i},{j} : C[{i}, {j}] * N / (S[{j}]*S[{i}]) = {C[i, j]} * {N} / ({S[j]}*{S[i]}) ')\n",
        "            M[i, j] = max(0, pmi)     #양수\n",
        "\n",
        "            if verbose:\n",
        "                cnt += 1\n",
        "                if cnt % (total//100) == 0:\n",
        "                    print('%.1f%% 완료' % (100*cnt/total))\n",
        "    return M"
      ],
      "execution_count": null,
      "outputs": []
    },
    {
      "cell_type": "code",
      "metadata": {
        "id": "qasvJgGnkWFX",
        "colab_type": "code",
        "colab": {
          "base_uri": "https://localhost:8080/",
          "height": 1000
        },
        "outputId": "52ecfe6d-3a15-492c-ac79-0ff05863f722"
      },
      "source": [
        "text = 'You say goodbye and I say  hello.'\n",
        "corpus, word_to_id, id_to_word = preprocess(text)\n",
        "vocab_size = len(word_to_id)\n",
        "C = create_co_matrix(corpus, vocab_size)\n",
        "W = ppmi_N(C)\n",
        "\n",
        "np.set_printoptions(precision=3)  # 유효 자릿수를 세 자리로 표시\n",
        "print('동시발생 행렬')\n",
        "print(C)\n",
        "print('-'*50)\n",
        "print('PPMI')\n",
        "print(W)"
      ],
      "execution_count": null,
      "outputs": [
        {
          "output_type": "stream",
          "text": [
            "0,0 : C[0, 0] * N / (S[0]*S[0]) = 0 * 16 / (1*1) \n",
            "0,1 : C[0, 1] * N / (S[1]*S[0]) = 1 * 16 / (4*1) \n",
            "0,2 : C[0, 2] * N / (S[2]*S[0]) = 0 * 16 / (2*1) \n",
            "0,3 : C[0, 3] * N / (S[3]*S[0]) = 0 * 16 / (2*1) \n",
            "0,4 : C[0, 4] * N / (S[4]*S[0]) = 0 * 16 / (2*1) \n",
            "0,5 : C[0, 5] * N / (S[5]*S[0]) = 0 * 16 / (2*1) \n",
            "0,6 : C[0, 6] * N / (S[6]*S[0]) = 0 * 16 / (2*1) \n",
            "0,7 : C[0, 7] * N / (S[7]*S[0]) = 0 * 16 / (1*1) \n",
            "1,0 : C[1, 0] * N / (S[0]*S[1]) = 1 * 16 / (1*4) \n",
            "1,1 : C[1, 1] * N / (S[1]*S[1]) = 0 * 16 / (4*4) \n",
            "1,2 : C[1, 2] * N / (S[2]*S[1]) = 1 * 16 / (2*4) \n",
            "1,3 : C[1, 3] * N / (S[3]*S[1]) = 0 * 16 / (2*4) \n",
            "1,4 : C[1, 4] * N / (S[4]*S[1]) = 1 * 16 / (2*4) \n",
            "1,5 : C[1, 5] * N / (S[5]*S[1]) = 1 * 16 / (2*4) \n",
            "1,6 : C[1, 6] * N / (S[6]*S[1]) = 0 * 16 / (2*4) \n",
            "1,7 : C[1, 7] * N / (S[7]*S[1]) = 0 * 16 / (1*4) \n",
            "2,0 : C[2, 0] * N / (S[0]*S[2]) = 0 * 16 / (1*2) \n",
            "2,1 : C[2, 1] * N / (S[1]*S[2]) = 1 * 16 / (4*2) \n",
            "2,2 : C[2, 2] * N / (S[2]*S[2]) = 0 * 16 / (2*2) \n",
            "2,3 : C[2, 3] * N / (S[3]*S[2]) = 1 * 16 / (2*2) \n",
            "2,4 : C[2, 4] * N / (S[4]*S[2]) = 0 * 16 / (2*2) \n",
            "2,5 : C[2, 5] * N / (S[5]*S[2]) = 0 * 16 / (2*2) \n",
            "2,6 : C[2, 6] * N / (S[6]*S[2]) = 0 * 16 / (2*2) \n",
            "2,7 : C[2, 7] * N / (S[7]*S[2]) = 0 * 16 / (1*2) \n",
            "3,0 : C[3, 0] * N / (S[0]*S[3]) = 0 * 16 / (1*2) \n",
            "3,1 : C[3, 1] * N / (S[1]*S[3]) = 0 * 16 / (4*2) \n",
            "3,2 : C[3, 2] * N / (S[2]*S[3]) = 1 * 16 / (2*2) \n",
            "3,3 : C[3, 3] * N / (S[3]*S[3]) = 0 * 16 / (2*2) \n",
            "3,4 : C[3, 4] * N / (S[4]*S[3]) = 1 * 16 / (2*2) \n",
            "3,5 : C[3, 5] * N / (S[5]*S[3]) = 0 * 16 / (2*2) \n",
            "3,6 : C[3, 6] * N / (S[6]*S[3]) = 0 * 16 / (2*2) \n",
            "3,7 : C[3, 7] * N / (S[7]*S[3]) = 0 * 16 / (1*2) \n",
            "4,0 : C[4, 0] * N / (S[0]*S[4]) = 0 * 16 / (1*2) \n",
            "4,1 : C[4, 1] * N / (S[1]*S[4]) = 1 * 16 / (4*2) \n",
            "4,2 : C[4, 2] * N / (S[2]*S[4]) = 0 * 16 / (2*2) \n",
            "4,3 : C[4, 3] * N / (S[3]*S[4]) = 1 * 16 / (2*2) \n",
            "4,4 : C[4, 4] * N / (S[4]*S[4]) = 0 * 16 / (2*2) \n",
            "4,5 : C[4, 5] * N / (S[5]*S[4]) = 0 * 16 / (2*2) \n",
            "4,6 : C[4, 6] * N / (S[6]*S[4]) = 0 * 16 / (2*2) \n",
            "4,7 : C[4, 7] * N / (S[7]*S[4]) = 0 * 16 / (1*2) \n",
            "5,0 : C[5, 0] * N / (S[0]*S[5]) = 0 * 16 / (1*2) \n",
            "5,1 : C[5, 1] * N / (S[1]*S[5]) = 1 * 16 / (4*2) \n",
            "5,2 : C[5, 2] * N / (S[2]*S[5]) = 0 * 16 / (2*2) \n",
            "5,3 : C[5, 3] * N / (S[3]*S[5]) = 0 * 16 / (2*2) \n",
            "5,4 : C[5, 4] * N / (S[4]*S[5]) = 0 * 16 / (2*2) \n",
            "5,5 : C[5, 5] * N / (S[5]*S[5]) = 0 * 16 / (2*2) \n",
            "5,6 : C[5, 6] * N / (S[6]*S[5]) = 1 * 16 / (2*2) \n",
            "5,7 : C[5, 7] * N / (S[7]*S[5]) = 0 * 16 / (1*2) \n",
            "6,0 : C[6, 0] * N / (S[0]*S[6]) = 0 * 16 / (1*2) \n",
            "6,1 : C[6, 1] * N / (S[1]*S[6]) = 0 * 16 / (4*2) \n",
            "6,2 : C[6, 2] * N / (S[2]*S[6]) = 0 * 16 / (2*2) \n",
            "6,3 : C[6, 3] * N / (S[3]*S[6]) = 0 * 16 / (2*2) \n",
            "6,4 : C[6, 4] * N / (S[4]*S[6]) = 0 * 16 / (2*2) \n",
            "6,5 : C[6, 5] * N / (S[5]*S[6]) = 1 * 16 / (2*2) \n",
            "6,6 : C[6, 6] * N / (S[6]*S[6]) = 0 * 16 / (2*2) \n",
            "6,7 : C[6, 7] * N / (S[7]*S[6]) = 1 * 16 / (1*2) \n",
            "7,0 : C[7, 0] * N / (S[0]*S[7]) = 0 * 16 / (1*1) \n",
            "7,1 : C[7, 1] * N / (S[1]*S[7]) = 0 * 16 / (4*1) \n",
            "7,2 : C[7, 2] * N / (S[2]*S[7]) = 0 * 16 / (2*1) \n",
            "7,3 : C[7, 3] * N / (S[3]*S[7]) = 0 * 16 / (2*1) \n",
            "7,4 : C[7, 4] * N / (S[4]*S[7]) = 0 * 16 / (2*1) \n",
            "7,5 : C[7, 5] * N / (S[5]*S[7]) = 0 * 16 / (2*1) \n",
            "7,6 : C[7, 6] * N / (S[6]*S[7]) = 1 * 16 / (2*1) \n",
            "7,7 : C[7, 7] * N / (S[7]*S[7]) = 0 * 16 / (1*1) \n",
            "동시발생 행렬\n",
            "[[0 1 0 0 0 0 0 0]\n",
            " [1 0 1 0 1 1 0 0]\n",
            " [0 1 0 1 0 0 0 0]\n",
            " [0 0 1 0 1 0 0 0]\n",
            " [0 1 0 1 0 0 0 0]\n",
            " [0 1 0 0 0 0 1 0]\n",
            " [0 0 0 0 0 1 0 1]\n",
            " [0 0 0 0 0 0 1 0]]\n",
            "--------------------------------------------------\n",
            "PPMI\n",
            "[[0. 2. 0. 0. 0. 0. 0. 0.]\n",
            " [2. 0. 1. 0. 1. 1. 0. 0.]\n",
            " [0. 1. 0. 2. 0. 0. 0. 0.]\n",
            " [0. 0. 2. 0. 2. 0. 0. 0.]\n",
            " [0. 1. 0. 2. 0. 0. 0. 0.]\n",
            " [0. 1. 0. 0. 0. 0. 2. 0.]\n",
            " [0. 0. 0. 0. 0. 2. 0. 3.]\n",
            " [0. 0. 0. 0. 0. 0. 3. 0.]]\n"
          ],
          "name": "stdout"
        }
      ]
    },
    {
      "cell_type": "markdown",
      "metadata": {
        "id": "I5HAr2D6VpzP",
        "colab_type": "text"
      },
      "source": [
        "벡터 차원의 감소\n",
        "\n",
        ": 벡터 대부분이 0을 나타내므로 중요하지 않은 것을 개선"
      ]
    },
    {
      "cell_type": "markdown",
      "metadata": {
        "id": "qWbPAfEaWlbs",
        "colab_type": "text"
      },
      "source": [
        ">특이 값 분해 (SVD)"
      ]
    },
    {
      "cell_type": "code",
      "metadata": {
        "id": "02xFe8n_Wm36",
        "colab_type": "code",
        "colab": {
          "base_uri": "https://localhost:8080/",
          "height": 564
        },
        "outputId": "ea3f9b43-b6cf-41a0-ae73-eb0cd651674e"
      },
      "source": [
        "import matplotlib.pyplot as plt\n",
        "\n",
        "text = 'You say goodbye and I say hello.'\n",
        "corpus, word_to_id, id_to_word = preprocess(text)\n",
        "vocab_size = len(id_to_word)\n",
        "C = create_co_matrix(corpus, vocab_size, window_size=1)\n",
        "W = ppmi(C)\n",
        "\n",
        "### 벡터차원 감소 SVD\n",
        "U, S, V = np.linalg.svd(W)\n",
        "\n",
        "np.set_printoptions(precision=3)  # 유효 자릿수를 세 자리로 표시\n",
        "\n",
        "print('you의 동시 발생 행렬:')\n",
        "print(C[0])\n",
        "print('\\n')\n",
        "\n",
        "print('you의 PPMI행렬:')\n",
        "print(W[0])\n",
        "print('\\n')\n",
        "\n",
        "print('you의 SVD 결과:')\n",
        "print(U[0])\n",
        "print('\\n')\n",
        "\n",
        "print('you의 2차원 벡터로 줄인 결과:')\n",
        "print(U[0,:2])\n",
        "print('\\n')\n",
        "\n",
        "# 2차원 벡터로 표현 한 후\n",
        "for word, word_id in word_to_id.items():\n",
        "    plt.annotate(word, (U[word_id, 0], U[word_id, 1]))\n",
        "\n",
        "plt.scatter(U[:,0], U[:,1], alpha=0.5)\n",
        "plt.show()"
      ],
      "execution_count": null,
      "outputs": [
        {
          "output_type": "stream",
          "text": [
            "you의 동시 발생 행렬:\n",
            "[0 1 0 0 0 0 0]\n",
            "\n",
            "\n",
            "you의 PPMI행렬:\n",
            "[0.    1.807 0.    0.    0.    0.    0.   ]\n",
            "\n",
            "\n",
            "you의 SVD 결과:\n",
            "[ 3.409e-01  0.000e+00 -1.205e-01 -3.886e-16 -9.323e-01 -1.110e-16\n",
            " -2.426e-17]\n",
            "\n",
            "\n",
            "you의 2차원 벡터로 줄인 결과:\n",
            "[0.341 0.   ]\n",
            "\n",
            "\n"
          ],
          "name": "stdout"
        },
        {
          "output_type": "display_data",
          "data": {
            "image/png": "[encoded data removed]",
            "text/plain": [
              "<Figure size 432x288 with 1 Axes>"
            ]
          },
          "metadata": {
            "tags": [],
            "needs_background": "light"
          }
        }
      ]
    },
    {
      "cell_type": "markdown",
      "metadata": {
        "id": "EPu525SzaZw5",
        "colab_type": "text"
      },
      "source": [
        "# PTB(Penn Treebank) 데이터 셋"
      ]
    },
    {
      "cell_type": "markdown",
      "metadata": {
        "id": "z7lL8-YVajDR",
        "colab_type": "text"
      },
      "source": [
        "PTB 사용해 보기"
      ]
    },
    {
      "cell_type": "code",
      "metadata": {
        "id": "6km_Ie0idNx6",
        "colab_type": "code",
        "colab": {
          "base_uri": "https://localhost:8080/",
          "height": 105
        },
        "outputId": "3c73decc-0df4-42b2-a900-0744e8622119"
      },
      "source": [
        "!git clone https://github.com/WegraLee/deep-learning-from-scratch-2.git"
      ],
      "execution_count": null,
      "outputs": [
        {
          "output_type": "stream",
          "text": [
            "Cloning into 'deep-learning-from-scratch-2'...\n",
            "remote: Enumerating objects: 580, done.\u001b[K\n",
            "remote: Total 580 (delta 0), reused 0 (delta 0), pack-reused 580\u001b[K\n",
            "Receiving objects: 100% (580/580), 29.81 MiB | 34.10 MiB/s, done.\n",
            "Resolving deltas: 100% (349/349), done.\n"
          ],
          "name": "stdout"
        }
      ]
    },
    {
      "cell_type": "code",
      "metadata": {
        "id": "P1a1l8UAdW0H",
        "colab_type": "code",
        "colab": {}
      },
      "source": [
        "import os\n",
        "os.chdir('/content/deep-learning-from-scratch-2')"
      ],
      "execution_count": null,
      "outputs": []
    },
    {
      "cell_type": "code",
      "metadata": {
        "id": "2lEYAec2aZaD",
        "colab_type": "code",
        "colab": {
          "base_uri": "https://localhost:8080/",
          "height": 281
        },
        "outputId": "af824dea-f730-4408-92b4-95ff9fb3fb25"
      },
      "source": [
        "import sys\n",
        "sys.path.append('..')\n",
        "from dataset import ptb\n",
        "\n",
        "corpus, word_to_id, id_to_word = ptb.load_data('train') #훈련용 데이터 가져오기\n",
        "\n",
        "print('말뭉치 크기:', len(corpus))\n",
        "print('corpus[:30]:', corpus[:30])\n",
        "print()\n",
        "print('id_to_word[0]:', id_to_word[0])\n",
        "print('id_to_word[1]:', id_to_word[1])\n",
        "print('id_to_word[2]:', id_to_word[2])\n",
        "print('id_to_word[33]:', id_to_word[33])\n",
        "print('id_to_word[68]:', id_to_word[68])\n",
        "print('id_to_word[100]:', id_to_word[100])\n",
        "print()\n",
        "print(\"word_to_id['study']:\", word_to_id['study'])\n",
        "#print(\"word_to_id['inha']:\", word_to_id['inha']) #  key error 발생\n",
        "print(\"word_to_id['lexus']:\", word_to_id['lexus'])"
      ],
      "execution_count": null,
      "outputs": [
        {
          "output_type": "stream",
          "text": [
            "Downloading ptb.train.txt ... \n",
            "Done\n",
            "말뭉치 크기: 929589\n",
            "corpus[:30]: [ 0  1  2  3  4  5  6  7  8  9 10 11 12 13 14 15 16 17 18 19 20 21 22 23\n",
            " 24 25 26 27 28 29]\n",
            "\n",
            "id_to_word[0]: aer\n",
            "id_to_word[1]: banknote\n",
            "id_to_word[2]: berlitz\n",
            "id_to_word[33]: board\n",
            "id_to_word[68]: filters\n",
            "id_to_word[100]: unit\n",
            "\n",
            "word_to_id['study']: 215\n",
            "word_to_id['lexus']: 7426\n"
          ],
          "name": "stdout"
        }
      ]
    },
    {
      "cell_type": "markdown",
      "metadata": {
        "id": "AqO8BWGZeOjp",
        "colab_type": "text"
      },
      "source": [
        "PTB 데이터셋 평가 하기"
      ]
    },
    {
      "cell_type": "markdown",
      "metadata": {
        "id": "_SkZBnOdeUAH",
        "colab_type": "text"
      },
      "source": [
        "> 통계 기반 기법을 적용하여 데이터 셋을 평가해보자.\n",
        "\n",
        "> 단어들의 의미를 벡터로 잘 표현하고 있는가?"
      ]
    },
    {
      "cell_type": "code",
      "metadata": {
        "id": "U-_8xO9HeRDp",
        "colab_type": "code",
        "colab": {
          "base_uri": "https://localhost:8080/",
          "height": 398
        },
        "outputId": "f1da74bc-36ab-4f54-81b6-8a051cc84573"
      },
      "source": [
        "import sys\n",
        "sys.path.append('..')\n",
        "import numpy as np\n",
        "from common.util import most_similar, create_co_matrix, ppmi\n",
        "from dataset import ptb\n",
        "\n",
        "window_size = 2\n",
        "wordvec_size = 100\n",
        "\n",
        "\n",
        "# ptb 데이터 셋에서 훈련용 데이터 받기 \n",
        "corpus, word_to_id, id_to_word = ptb.load_data('train')\n",
        "\n",
        "vocab_size = len(word_to_id)\n",
        "\n",
        "# 동시 발생 행렬 계산\n",
        "print('동시발생 수 계산 ...')\n",
        "C = create_co_matrix(corpus, vocab_size, window_size)\n",
        "\n",
        "#PPMI 계산\n",
        "print('PPMI 계산 ...')\n",
        "W = ppmi(C, verbose=False)\n",
        "\n",
        "#SVD 계산\n",
        "print('calculating SVD ...')\n",
        "try:\n",
        "    # truncated SVD (빠르다!)\n",
        "    from sklearn.utils.extmath import randomized_svd\n",
        "    U, S, V = randomized_svd(W, n_components=wordvec_size, n_iter=5,\n",
        "                             random_state=None)\n",
        "except ImportError:\n",
        "    # SVD (느리다)\n",
        "    U, S, V = np.linalg.svd(W)\n",
        "\n",
        "#SVD의 결과를 이용하여 모든 벡터를 wordvec_size 만큼 감소 시킨다.\n",
        "word_vecs = U[:, :wordvec_size] \n",
        "\n",
        "# 주어진 요청에 의해 가장 비슷한 단어 5개를 출력한다.\n",
        "querys = ['you', 'year', 'car', 'toyota']\n",
        "\n",
        "for query in querys:\n",
        "    most_similar(query, word_to_id, id_to_word, word_vecs, top=5)"
      ],
      "execution_count": null,
      "outputs": [
        {
          "output_type": "stream",
          "text": [
            "동시발생 수 계산 ...\n",
            "PPMI 계산 ...\n"
          ],
          "name": "stdout"
        },
        {
          "output_type": "error",
          "ename": "KeyboardInterrupt",
          "evalue": "ignored",
          "traceback": [
            "\u001b[0;31m---------------------------------------------------------------------------\u001b[0m",
            "\u001b[0;31mKeyboardInterrupt\u001b[0m                         Traceback (most recent call last)",
            "\u001b[0;32m<ipython-input-24-3fc9d3bf5825>\u001b[0m in \u001b[0;36m<module>\u001b[0;34m()\u001b[0m\n\u001b[1;32m     20\u001b[0m \u001b[0;31m#PPMI 계산\u001b[0m\u001b[0;34m\u001b[0m\u001b[0;34m\u001b[0m\u001b[0;34m\u001b[0m\u001b[0m\n\u001b[1;32m     21\u001b[0m \u001b[0mprint\u001b[0m\u001b[0;34m(\u001b[0m\u001b[0;34m'PPMI 계산 ...'\u001b[0m\u001b[0;34m)\u001b[0m\u001b[0;34m\u001b[0m\u001b[0;34m\u001b[0m\u001b[0m\n\u001b[0;32m---> 22\u001b[0;31m \u001b[0mW\u001b[0m \u001b[0;34m=\u001b[0m \u001b[0mppmi\u001b[0m\u001b[0;34m(\u001b[0m\u001b[0mC\u001b[0m\u001b[0;34m,\u001b[0m \u001b[0mverbose\u001b[0m\u001b[0;34m=\u001b[0m\u001b[0;32mFalse\u001b[0m\u001b[0;34m)\u001b[0m\u001b[0;34m\u001b[0m\u001b[0;34m\u001b[0m\u001b[0m\n\u001b[0m\u001b[1;32m     23\u001b[0m \u001b[0;34m\u001b[0m\u001b[0m\n\u001b[1;32m     24\u001b[0m \u001b[0;31m#SVD 계산\u001b[0m\u001b[0;34m\u001b[0m\u001b[0;34m\u001b[0m\u001b[0;34m\u001b[0m\u001b[0m\n",
            "\u001b[0;32m/content/deep-learning-from-scratch-2/common/util.py\u001b[0m in \u001b[0;36mppmi\u001b[0;34m(C, verbose, eps)\u001b[0m\n\u001b[1;32m    139\u001b[0m     \u001b[0;32mfor\u001b[0m \u001b[0mi\u001b[0m \u001b[0;32min\u001b[0m \u001b[0mrange\u001b[0m\u001b[0;34m(\u001b[0m\u001b[0mC\u001b[0m\u001b[0;34m.\u001b[0m\u001b[0mshape\u001b[0m\u001b[0;34m[\u001b[0m\u001b[0;36m0\u001b[0m\u001b[0;34m]\u001b[0m\u001b[0;34m)\u001b[0m\u001b[0;34m:\u001b[0m\u001b[0;34m\u001b[0m\u001b[0;34m\u001b[0m\u001b[0m\n\u001b[1;32m    140\u001b[0m         \u001b[0;32mfor\u001b[0m \u001b[0mj\u001b[0m \u001b[0;32min\u001b[0m \u001b[0mrange\u001b[0m\u001b[0;34m(\u001b[0m\u001b[0mC\u001b[0m\u001b[0;34m.\u001b[0m\u001b[0mshape\u001b[0m\u001b[0;34m[\u001b[0m\u001b[0;36m1\u001b[0m\u001b[0;34m]\u001b[0m\u001b[0;34m)\u001b[0m\u001b[0;34m:\u001b[0m\u001b[0;34m\u001b[0m\u001b[0;34m\u001b[0m\u001b[0m\n\u001b[0;32m--> 141\u001b[0;31m             \u001b[0mpmi\u001b[0m \u001b[0;34m=\u001b[0m \u001b[0mnp\u001b[0m\u001b[0;34m.\u001b[0m\u001b[0mlog2\u001b[0m\u001b[0;34m(\u001b[0m\u001b[0mC\u001b[0m\u001b[0;34m[\u001b[0m\u001b[0mi\u001b[0m\u001b[0;34m,\u001b[0m \u001b[0mj\u001b[0m\u001b[0;34m]\u001b[0m \u001b[0;34m*\u001b[0m \u001b[0mN\u001b[0m \u001b[0;34m/\u001b[0m \u001b[0;34m(\u001b[0m\u001b[0mS\u001b[0m\u001b[0;34m[\u001b[0m\u001b[0mj\u001b[0m\u001b[0;34m]\u001b[0m\u001b[0;34m*\u001b[0m\u001b[0mS\u001b[0m\u001b[0;34m[\u001b[0m\u001b[0mi\u001b[0m\u001b[0;34m]\u001b[0m\u001b[0;34m)\u001b[0m \u001b[0;34m+\u001b[0m \u001b[0meps\u001b[0m\u001b[0;34m)\u001b[0m\u001b[0;34m\u001b[0m\u001b[0;34m\u001b[0m\u001b[0m\n\u001b[0m\u001b[1;32m    142\u001b[0m             \u001b[0mM\u001b[0m\u001b[0;34m[\u001b[0m\u001b[0mi\u001b[0m\u001b[0;34m,\u001b[0m \u001b[0mj\u001b[0m\u001b[0;34m]\u001b[0m \u001b[0;34m=\u001b[0m \u001b[0mmax\u001b[0m\u001b[0;34m(\u001b[0m\u001b[0;36m0\u001b[0m\u001b[0;34m,\u001b[0m \u001b[0mpmi\u001b[0m\u001b[0;34m)\u001b[0m\u001b[0;34m\u001b[0m\u001b[0;34m\u001b[0m\u001b[0m\n\u001b[1;32m    143\u001b[0m \u001b[0;34m\u001b[0m\u001b[0m\n",
            "\u001b[0;31mKeyboardInterrupt\u001b[0m: "
          ]
        }
      ]
    }
  ]
}
