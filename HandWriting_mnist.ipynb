{
  "nbformat": 4,
  "nbformat_minor": 0,
  "metadata": {
    "colab": {
      "name": "HandWriting_mnist.ipynb",
      "provenance": [],
      "collapsed_sections": []
    },
    "kernelspec": {
      "name": "python3",
      "display_name": "Python 3"
    },
    "accelerator": "GPU"
  },
  "cells": [
    {
      "cell_type": "markdown",
      "metadata": {
        "id": "8d5hMMA_HAZ5",
        "colab_type": "text"
      },
      "source": [
        "<0> github 에서 파일 받아 구글 드라이브에 저장하기 \n",
        "\n",
        "\n",
        "1. 구글 드라이브에 (예)DL_from_Scratch_study_code폴더 만들어서  deep-learning-from-scratch-master 저장\n",
        "     https://github.com/WegraLee/deep-learning-from-scratch \n",
        "2. dataset의 mnist.py파일 ch03으로 복사하기\n",
        "\n",
        "3. 사용할 손글씨 이미지 ch03(구글드라이브)에 저장\n",
        "    \n",
        "    ! 이미지 조건 (28*28 사이즈 / 검은바탕 흰글씨)\n",
        "\n",
        "\n",
        "      \n",
        "\n",
        "\n",
        "\n",
        "\n",
        "\n",
        "\n",
        "\n",
        "\n",
        "\n"
      ]
    },
    {
      "cell_type": "markdown",
      "metadata": {
        "id": "yOSARs-5GD1l",
        "colab_type": "text"
      },
      "source": [
        "<1> 구글 드라이브와 연동하기\n",
        "1. 아래 코드 실행\n",
        "2. 출력 된 링크 타고 들어가서 로그인 \n",
        "3. 인증 코드 복사 붙여넣기"
      ]
    },
    {
      "cell_type": "code",
      "metadata": {
        "id": "LRiUIYU-5xSX",
        "colab_type": "code",
        "colab": {}
      },
      "source": [
        "from google.colab import drive \n",
        "drive.mount('/content/drive/')\n"
      ],
      "execution_count": null,
      "outputs": []
    },
    {
      "cell_type": "markdown",
      "metadata": {
        "id": "UOF2TgYTGCmE",
        "colab_type": "text"
      },
      "source": [
        "<2> 디렉토리 연결 내용 확인하기"
      ]
    },
    {
      "cell_type": "code",
      "metadata": {
        "id": "RvNFTRyw8mGp",
        "colab_type": "code",
        "colab": {}
      },
      "source": [
        "!ls"
      ],
      "execution_count": null,
      "outputs": []
    },
    {
      "cell_type": "markdown",
      "metadata": {
        "id": "7GOt_LYbGkgR",
        "colab_type": "text"
      },
      "source": [
        "<3> 디렉토리 변경\n",
        "\n",
        "  \"DL_from_Scratch_study_code\" 폴더에 깃허브 파일 저장 후 사용\n",
        "\n",
        "> !! 이미 마운트 된 상태에서 end point 오류 시 \"런타임> 런타임 초기화\" 후 다시 실행해보기 \n",
        "\n",
        "\n"
      ]
    },
    {
      "cell_type": "code",
      "metadata": {
        "id": "8FJnjbB29RdA",
        "colab_type": "code",
        "colab": {}
      },
      "source": [
        "import os\n",
        "os.chdir('drive/My Drive/DL_from_Scratch_study_code/deep-learning-from-scratch-master')"
      ],
      "execution_count": null,
      "outputs": []
    },
    {
      "cell_type": "markdown",
      "metadata": {
        "id": "0rhbdU_mGw72",
        "colab_type": "text"
      },
      "source": [
        "<4> 실행할 코드 \n",
        "\n",
        "*   이미지는 ch03 폴더 안에 넣어두기\n",
        "\n"
      ]
    },
    {
      "cell_type": "code",
      "metadata": {
        "id": "OD9W6h9O4Jl-",
        "colab_type": "code",
        "colab": {
          "base_uri": "https://localhost:8080/",
          "height": 282
        },
        "outputId": "cb6fa273-95f1-47e4-a68c-2e4d38dc9b76"
      },
      "source": [
        "# coding: utf-8\n",
        "import sys\n",
        "import numpy as np\n",
        "import pickle\n",
        "\n",
        "from dataset.mnist import load_mnist\n",
        "from common.functions import sigmoid, softmax\n",
        "\n",
        "from PIL import Image \n",
        "import matplotlib.pyplot as plt\n",
        "\n",
        "def get_data():\n",
        "    image_path = \"./ch03/num.png\"\n",
        "\n",
        "    # 이미지를 256단계 흑백 이미지로 불러오기\n",
        "    img = Image.open(image_path).convert(\"L\")\n",
        "\n",
        "    #로드한 이미지 확인\n",
        "    plt.imshow(img)\n",
        "    plt.show()\n",
        "\n",
        "    # flatten\n",
        "    img = np.resize(img, (1, 784))\n",
        "    #normalize\n",
        "    im2arr = np.array(img) / 255\n",
        "\n",
        "    # 추정만 하고 정확도 따지지 않으므로, x_test만 반환\n",
        "    x_test = im2arr\n",
        "    return x_test\n",
        "\n",
        "\n",
        "def init_network():\n",
        "  #경로 설정\n",
        "    with open(\"./ch03/sample_weight.pkl\", 'rb') as f:\n",
        "        network = pickle.load(f)\n",
        "    return network\n",
        "    \n",
        "def predict(network, x):\n",
        "    W1, W2, W3 = network['W1'], network['W2'], network['W3']\n",
        "    b1, b2, b3 = network['b1'], network['b2'], network['b3']\n",
        "\n",
        "    a1 = np.dot(x, W1) + b1\n",
        "    z1 = sigmoid(a1)\n",
        "    a2 = np.dot(z1, W2) + b2\n",
        "    z2 = sigmoid(a2)\n",
        "    a3 = np.dot(z2, W3) + b3\n",
        "    y = softmax(a3)\n",
        "\n",
        "    return y\n",
        "\n",
        "x = get_data()\n",
        "network = init_network()\n",
        "y = predict(network, x)\n",
        "p= np.argmax(y) # 확률이 가장 높은 원소의 인덱스를 얻는다.\n",
        "print(\"추정된 숫자 >>\"+str(p))\n"
      ],
      "execution_count": null,
      "outputs": [
        {
          "output_type": "display_data",
          "data": {
            "image/png": "[encoded data removed]",
            "text/plain": [
              "<Figure size 432x288 with 1 Axes>"
            ]
          },
          "metadata": {
            "tags": [],
            "needs_background": "light"
          }
        },
        {
          "output_type": "stream",
          "text": [
            "추정된 숫자 >>3\n"
          ],
          "name": "stdout"
        }
      ]
    }
  ]
}