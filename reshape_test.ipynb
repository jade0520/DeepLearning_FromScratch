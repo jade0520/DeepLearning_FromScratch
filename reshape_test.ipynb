{
  "nbformat": 4,
  "nbformat_minor": 0,
  "metadata": {
    "colab": {
      "name": "reshape_test.ipynb",
      "provenance": [],
      "authorship_tag": "ABX9TyPA7Y9E7uSkYxvTw5QpZr/9",
      "include_colab_link": true
    },
    "kernelspec": {
      "name": "python3",
      "display_name": "Python 3"
    }
  },
  "cells": [
    {
      "cell_type": "markdown",
      "metadata": {
        "id": "view-in-github",
        "colab_type": "text"
      },
      "source": [
        "<a href=\"https://colab.research.google.com/github/jade0520/DeepLearning_FromScratch/blob/master/reshape_test.ipynb\" target=\"_parent\"><img src=\"https://colab.research.google.com/assets/colab-badge.svg\" alt=\"Open In Colab\"/></a>"
      ]
    },
    {
      "cell_type": "markdown",
      "metadata": {
        "id": "PrqHnEQw3Es8",
        "colab_type": "text"
      },
      "source": [
        "# 1차원-->다차원"
      ]
    },
    {
      "cell_type": "code",
      "metadata": {
        "id": "mmUCZQMt1SYU",
        "colab_type": "code",
        "colab": {
          "base_uri": "https://localhost:8080/",
          "height": 34
        },
        "outputId": "ef765e03-6933-46f7-fa00-f65ea7b5d2b7"
      },
      "source": [
        "import numpy as np\n",
        "\n",
        "x = np.arange(60)\n",
        "print(*x)"
      ],
      "execution_count": 18,
      "outputs": [
        {
          "output_type": "stream",
          "text": [
            "0 1 2 3 4 5 6 7 8 9 10 11 12 13 14 15 16 17 18 19 20 21 22 23 24 25 26 27 28 29 30 31 32 33 34 35 36 37 38 39 40 41 42 43 44 45 46 47 48 49 50 51 52 53 54 55 56 57 58 59\n"
          ],
          "name": "stdout"
        }
      ]
    },
    {
      "cell_type": "markdown",
      "metadata": {
        "id": "T906NWoq18GG",
        "colab_type": "text"
      },
      "source": [
        "reshape(i,-1) \n",
        "\n",
        "i로 나눠서 행을 채운다."
      ]
    },
    {
      "cell_type": "code",
      "metadata": {
        "id": "AlkzQfrP1drq",
        "colab_type": "code",
        "colab": {
          "base_uri": "https://localhost:8080/",
          "height": 70
        },
        "outputId": "6c8f8ec7-c4e4-48d5-ef5a-e43b4751e870"
      },
      "source": [
        "y = x.reshape(2,-1)\n",
        "print(*y)"
      ],
      "execution_count": 19,
      "outputs": [
        {
          "output_type": "stream",
          "text": [
            "[ 0  1  2  3  4  5  6  7  8  9 10 11 12 13 14 15 16 17 18 19 20 21 22 23\n",
            " 24 25 26 27 28 29] [30 31 32 33 34 35 36 37 38 39 40 41 42 43 44 45 46 47 48 49 50 51 52 53\n",
            " 54 55 56 57 58 59]\n"
          ],
          "name": "stdout"
        }
      ]
    },
    {
      "cell_type": "markdown",
      "metadata": {
        "id": "exNZbjUi2FKM",
        "colab_type": "text"
      },
      "source": [
        "reshape(i,j,-1)\n",
        "행을 채운 후, 행마다 j로 나눈다."
      ]
    },
    {
      "cell_type": "code",
      "metadata": {
        "id": "eWo4jMV62MKK",
        "colab_type": "code",
        "colab": {
          "base_uri": "https://localhost:8080/",
          "height": 105
        },
        "outputId": "3a1b2d2a-867e-48ee-b2b5-cf3d2b7cafe4"
      },
      "source": [
        "y = x.reshape(2,3,-1)\n",
        "print(*y)"
      ],
      "execution_count": 20,
      "outputs": [
        {
          "output_type": "stream",
          "text": [
            "[[ 0  1  2  3  4  5  6  7  8  9]\n",
            " [10 11 12 13 14 15 16 17 18 19]\n",
            " [20 21 22 23 24 25 26 27 28 29]] [[30 31 32 33 34 35 36 37 38 39]\n",
            " [40 41 42 43 44 45 46 47 48 49]\n",
            " [50 51 52 53 54 55 56 57 58 59]]\n"
          ],
          "name": "stdout"
        }
      ]
    },
    {
      "cell_type": "markdown",
      "metadata": {
        "id": "RsslOAVd2cQL",
        "colab_type": "text"
      },
      "source": [
        "reshape(i, j, k,-1)\n",
        "j로 나눠진 것을 다시 k로 나눈다."
      ]
    },
    {
      "cell_type": "code",
      "metadata": {
        "id": "-GICr-kx2ioI",
        "colab_type": "code",
        "colab": {
          "base_uri": "https://localhost:8080/",
          "height": 598
        },
        "outputId": "7f48610f-655f-419b-f99a-154b69f7bd47"
      },
      "source": [
        "y = x.reshape(2,3,5,-1)\n",
        "print(*y)\n",
        "\n"
      ],
      "execution_count": 21,
      "outputs": [
        {
          "output_type": "stream",
          "text": [
            "[[[ 0  1]\n",
            "  [ 2  3]\n",
            "  [ 4  5]\n",
            "  [ 6  7]\n",
            "  [ 8  9]]\n",
            "\n",
            " [[10 11]\n",
            "  [12 13]\n",
            "  [14 15]\n",
            "  [16 17]\n",
            "  [18 19]]\n",
            "\n",
            " [[20 21]\n",
            "  [22 23]\n",
            "  [24 25]\n",
            "  [26 27]\n",
            "  [28 29]]] [[[30 31]\n",
            "  [32 33]\n",
            "  [34 35]\n",
            "  [36 37]\n",
            "  [38 39]]\n",
            "\n",
            " [[40 41]\n",
            "  [42 43]\n",
            "  [44 45]\n",
            "  [46 47]\n",
            "  [48 49]]\n",
            "\n",
            " [[50 51]\n",
            "  [52 53]\n",
            "  [54 55]\n",
            "  [56 57]\n",
            "  [58 59]]]\n"
          ],
          "name": "stdout"
        }
      ]
    },
    {
      "cell_type": "markdown",
      "metadata": {
        "id": "WwZaO5i73LfO",
        "colab_type": "text"
      },
      "source": [
        "#다차원->1차원"
      ]
    },
    {
      "cell_type": "code",
      "metadata": {
        "id": "8RQv845t3N7c",
        "colab_type": "code",
        "colab": {
          "base_uri": "https://localhost:8080/",
          "height": 105
        },
        "outputId": "2392cd55-5d3c-40c3-cfec-c195e0b7aa7d"
      },
      "source": [
        "# 요순의 순서를 유지한다.\n",
        "z = y.reshape(2,3,-1)\n",
        "print(*z)"
      ],
      "execution_count": 23,
      "outputs": [
        {
          "output_type": "stream",
          "text": [
            "[[ 0  1  2  3  4  5  6  7  8  9]\n",
            " [10 11 12 13 14 15 16 17 18 19]\n",
            " [20 21 22 23 24 25 26 27 28 29]] [[30 31 32 33 34 35 36 37 38 39]\n",
            " [40 41 42 43 44 45 46 47 48 49]\n",
            " [50 51 52 53 54 55 56 57 58 59]]\n"
          ],
          "name": "stdout"
        }
      ]
    }
  ]
}